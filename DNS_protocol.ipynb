{
 "cells": [
  {
   "cell_type": "markdown",
   "metadata": {},
   "source": [
    "# DNS Packets Analysis and Visualization\n",
    "The following notebook will contain the analysis and visualization DNS packets"
   ]
  },
  {
   "cell_type": "markdown",
   "metadata": {},
   "source": [
    "## Importing Libraries"
   ]
  },
  {
   "cell_type": "code",
   "execution_count": 1,
   "metadata": {},
   "outputs": [],
   "source": [
    "import pandas as pd \n",
    "import numpy as np "
   ]
  },
  {
   "cell_type": "markdown",
   "metadata": {},
   "source": [
    "## Extracting the Dataset \n",
    "This Dataset has been extracted from a python script "
   ]
  },
  {
   "cell_type": "code",
   "execution_count": 2,
   "metadata": {},
   "outputs": [],
   "source": [
    "df = pd.read_excel(\"output.xlsx\",)"
   ]
  },
  {
   "cell_type": "code",
   "execution_count": 3,
   "metadata": {},
   "outputs": [
    {
     "output_type": "execute_result",
     "data": {
      "text/plain": [
       "   Unnamed: 0  TYPE  VERSION  PROTOCOL       SOURCE_IP  DESTINATION_IP     ID  \\\n",
       "0           0  2048        4        17   192.168.43.90    192.168.43.1  10670   \n",
       "1           1  2048        4        17   192.168.43.90    192.168.43.1  10671   \n",
       "2           2  2048        4        17   192.168.43.90    192.168.43.1  10672   \n",
       "3           3  2048        4        17   192.168.43.90    192.168.43.1  10673   \n",
       "4           4  2048        4        17    192.168.43.1   192.168.43.90   6991   \n",
       "\n",
       "   SOURCE_PORT  DESTINATION_PORT  TRANSACTION_ID  ...  ttl  rdlen.1  mname  \\\n",
       "0        60951                53           25491  ...  NaN      NaN    NaN   \n",
       "1        52778                53           12071  ...  NaN      NaN    NaN   \n",
       "2        57108                53           49497  ...  NaN      NaN    NaN   \n",
       "3        63852                53           50783  ...  NaN      NaN    NaN   \n",
       "4           53             60951           25491  ...  NaN      NaN    NaN   \n",
       "\n",
       "   rname  serial  refresh  retry  expire  minimum  AR_record_Section  \n",
       "0    NaN     NaN      NaN    NaN     NaN      NaN             [None]  \n",
       "1    NaN     NaN      NaN    NaN     NaN      NaN             [None]  \n",
       "2    NaN     NaN      NaN    NaN     NaN      NaN             [None]  \n",
       "3    NaN     NaN      NaN    NaN     NaN      NaN             [None]  \n",
       "4    NaN     NaN      NaN    NaN     NaN      NaN             [None]  \n",
       "\n",
       "[5 rows x 46 columns]"
      ],
      "text/html": "<div>\n<style scoped>\n    .dataframe tbody tr th:only-of-type {\n        vertical-align: middle;\n    }\n\n    .dataframe tbody tr th {\n        vertical-align: top;\n    }\n\n    .dataframe thead th {\n        text-align: right;\n    }\n</style>\n<table border=\"1\" class=\"dataframe\">\n  <thead>\n    <tr style=\"text-align: right;\">\n      <th></th>\n      <th>Unnamed: 0</th>\n      <th>TYPE</th>\n      <th>VERSION</th>\n      <th>PROTOCOL</th>\n      <th>SOURCE_IP</th>\n      <th>DESTINATION_IP</th>\n      <th>ID</th>\n      <th>SOURCE_PORT</th>\n      <th>DESTINATION_PORT</th>\n      <th>TRANSACTION_ID</th>\n      <th>...</th>\n      <th>ttl</th>\n      <th>rdlen.1</th>\n      <th>mname</th>\n      <th>rname</th>\n      <th>serial</th>\n      <th>refresh</th>\n      <th>retry</th>\n      <th>expire</th>\n      <th>minimum</th>\n      <th>AR_record_Section</th>\n    </tr>\n  </thead>\n  <tbody>\n    <tr>\n      <th>0</th>\n      <td>0</td>\n      <td>2048</td>\n      <td>4</td>\n      <td>17</td>\n      <td>192.168.43.90</td>\n      <td>192.168.43.1</td>\n      <td>10670</td>\n      <td>60951</td>\n      <td>53</td>\n      <td>25491</td>\n      <td>...</td>\n      <td>NaN</td>\n      <td>NaN</td>\n      <td>NaN</td>\n      <td>NaN</td>\n      <td>NaN</td>\n      <td>NaN</td>\n      <td>NaN</td>\n      <td>NaN</td>\n      <td>NaN</td>\n      <td>[None]</td>\n    </tr>\n    <tr>\n      <th>1</th>\n      <td>1</td>\n      <td>2048</td>\n      <td>4</td>\n      <td>17</td>\n      <td>192.168.43.90</td>\n      <td>192.168.43.1</td>\n      <td>10671</td>\n      <td>52778</td>\n      <td>53</td>\n      <td>12071</td>\n      <td>...</td>\n      <td>NaN</td>\n      <td>NaN</td>\n      <td>NaN</td>\n      <td>NaN</td>\n      <td>NaN</td>\n      <td>NaN</td>\n      <td>NaN</td>\n      <td>NaN</td>\n      <td>NaN</td>\n      <td>[None]</td>\n    </tr>\n    <tr>\n      <th>2</th>\n      <td>2</td>\n      <td>2048</td>\n      <td>4</td>\n      <td>17</td>\n      <td>192.168.43.90</td>\n      <td>192.168.43.1</td>\n      <td>10672</td>\n      <td>57108</td>\n      <td>53</td>\n      <td>49497</td>\n      <td>...</td>\n      <td>NaN</td>\n      <td>NaN</td>\n      <td>NaN</td>\n      <td>NaN</td>\n      <td>NaN</td>\n      <td>NaN</td>\n      <td>NaN</td>\n      <td>NaN</td>\n      <td>NaN</td>\n      <td>[None]</td>\n    </tr>\n    <tr>\n      <th>3</th>\n      <td>3</td>\n      <td>2048</td>\n      <td>4</td>\n      <td>17</td>\n      <td>192.168.43.90</td>\n      <td>192.168.43.1</td>\n      <td>10673</td>\n      <td>63852</td>\n      <td>53</td>\n      <td>50783</td>\n      <td>...</td>\n      <td>NaN</td>\n      <td>NaN</td>\n      <td>NaN</td>\n      <td>NaN</td>\n      <td>NaN</td>\n      <td>NaN</td>\n      <td>NaN</td>\n      <td>NaN</td>\n      <td>NaN</td>\n      <td>[None]</td>\n    </tr>\n    <tr>\n      <th>4</th>\n      <td>4</td>\n      <td>2048</td>\n      <td>4</td>\n      <td>17</td>\n      <td>192.168.43.1</td>\n      <td>192.168.43.90</td>\n      <td>6991</td>\n      <td>53</td>\n      <td>60951</td>\n      <td>25491</td>\n      <td>...</td>\n      <td>NaN</td>\n      <td>NaN</td>\n      <td>NaN</td>\n      <td>NaN</td>\n      <td>NaN</td>\n      <td>NaN</td>\n      <td>NaN</td>\n      <td>NaN</td>\n      <td>NaN</td>\n      <td>[None]</td>\n    </tr>\n  </tbody>\n</table>\n<p>5 rows × 46 columns</p>\n</div>"
     },
     "metadata": {},
     "execution_count": 3
    }
   ],
   "source": [
    "df.head()"
   ]
  },
  {
   "cell_type": "code",
   "execution_count": 4,
   "metadata": {},
   "outputs": [
    {
     "output_type": "stream",
     "name": "stdout",
     "text": [
      "<class 'pandas.core.frame.DataFrame'>\nRangeIndex: 2023 entries, 0 to 2022\nData columns (total 46 columns):\n #   Column             Non-Null Count  Dtype  \n---  ------             --------------  -----  \n 0   Unnamed: 0         2023 non-null   int64  \n 1   TYPE               2023 non-null   int64  \n 2   VERSION            2023 non-null   int64  \n 3   PROTOCOL           2023 non-null   int64  \n 4   SOURCE_IP          2023 non-null   object \n 5   DESTINATION_IP     2023 non-null   object \n 6   ID                 2023 non-null   int64  \n 7   SOURCE_PORT        2023 non-null   int64  \n 8   DESTINATION_PORT   2023 non-null   int64  \n 9   TRANSACTION_ID     2023 non-null   int64  \n 10  FLAG_QR            2023 non-null   int64  \n 11  FLAG_OPCODE        2023 non-null   int64  \n 12  FLAG_AA            2023 non-null   int64  \n 13  FLAG_TC            2023 non-null   int64  \n 14  FLAG_RD            2023 non-null   int64  \n 15  FLAG_RA            2023 non-null   int64  \n 16  FLAG_Z             2023 non-null   int64  \n 17  FLAG_AD            2023 non-null   int64  \n 18  FLAG_CD            2023 non-null   int64  \n 19  FLAG_RCODE         2023 non-null   int64  \n 20  QD_count           2023 non-null   int64  \n 21  AN_count           2023 non-null   int64  \n 22  NS_count           2023 non-null   int64  \n 23  AR_count           2023 non-null   int64  \n 24  QUEARY_NAME        2023 non-null   object \n 25  QUEARY_TYPE        2023 non-null   object \n 26  QUEARY_CLASS       2023 non-null   object \n 27  RR_name            874 non-null    object \n 28  Type               874 non-null    object \n 29  rclass             874 non-null    object \n 30  TTL                874 non-null    float64\n 31  rdlen              874 non-null    object \n 32  rdata              874 non-null    object \n 33  rrname             184 non-null    object \n 34  type               184 non-null    object \n 35  rclass.1           184 non-null    object \n 36  ttl                184 non-null    float64\n 37  rdlen.1            184 non-null    object \n 38  mname              184 non-null    object \n 39  rname              184 non-null    object \n 40  serial             184 non-null    float64\n 41  refresh            184 non-null    float64\n 42  retry              184 non-null    float64\n 43  expire             184 non-null    float64\n 44  minimum            184 non-null    float64\n 45  AR_record_Section  2023 non-null   object \ndtypes: float64(7), int64(22), object(17)\nmemory usage: 727.1+ KB\n"
     ]
    }
   ],
   "source": [
    "df.info()"
   ]
  },
  {
   "cell_type": "markdown",
   "metadata": {},
   "source": [
    "# Packet Length\n",
    "All the packets use  <b>UDP protocol</b> , so the Length of the packets are less than 512 bytes"
   ]
  },
  {
   "cell_type": "markdown",
   "metadata": {},
   "source": [
    "# Port Analysis\n",
    "Here we check how the packets are travelling from source to destination ports\n",
    "### Port 53 is the standard port for DNS\n",
    "### Source Ports"
   ]
  },
  {
   "cell_type": "code",
   "execution_count": 5,
   "metadata": {},
   "outputs": [
    {
     "output_type": "execute_result",
     "data": {
      "text/plain": [
       "     source_port  count\n",
       "0             53    987\n",
       "1          63852    120\n",
       "2          63853      6\n",
       "3          64302      5\n",
       "4          49566      4\n",
       "..           ...    ...\n",
       "816        50035      1\n",
       "817        49864      1\n",
       "818        53962      1\n",
       "819        60109      1\n",
       "820        52408      1\n",
       "\n",
       "[821 rows x 2 columns]"
      ],
      "text/html": "<div>\n<style scoped>\n    .dataframe tbody tr th:only-of-type {\n        vertical-align: middle;\n    }\n\n    .dataframe tbody tr th {\n        vertical-align: top;\n    }\n\n    .dataframe thead th {\n        text-align: right;\n    }\n</style>\n<table border=\"1\" class=\"dataframe\">\n  <thead>\n    <tr style=\"text-align: right;\">\n      <th></th>\n      <th>source_port</th>\n      <th>count</th>\n    </tr>\n  </thead>\n  <tbody>\n    <tr>\n      <th>0</th>\n      <td>53</td>\n      <td>987</td>\n    </tr>\n    <tr>\n      <th>1</th>\n      <td>63852</td>\n      <td>120</td>\n    </tr>\n    <tr>\n      <th>2</th>\n      <td>63853</td>\n      <td>6</td>\n    </tr>\n    <tr>\n      <th>3</th>\n      <td>64302</td>\n      <td>5</td>\n    </tr>\n    <tr>\n      <th>4</th>\n      <td>49566</td>\n      <td>4</td>\n    </tr>\n    <tr>\n      <th>...</th>\n      <td>...</td>\n      <td>...</td>\n    </tr>\n    <tr>\n      <th>816</th>\n      <td>50035</td>\n      <td>1</td>\n    </tr>\n    <tr>\n      <th>817</th>\n      <td>49864</td>\n      <td>1</td>\n    </tr>\n    <tr>\n      <th>818</th>\n      <td>53962</td>\n      <td>1</td>\n    </tr>\n    <tr>\n      <th>819</th>\n      <td>60109</td>\n      <td>1</td>\n    </tr>\n    <tr>\n      <th>820</th>\n      <td>52408</td>\n      <td>1</td>\n    </tr>\n  </tbody>\n</table>\n<p>821 rows × 2 columns</p>\n</div>"
     },
     "metadata": {},
     "execution_count": 5
    }
   ],
   "source": [
    "source_port=df['SOURCE_PORT'].value_counts()\n",
    "source_port = pd.DataFrame(source_port)\n",
    "source_port.reset_index(level=0, inplace=True)\n",
    "source_port.columns = ['source_port','count']\n",
    "source_port"
   ]
  },
  {
   "cell_type": "markdown",
   "metadata": {},
   "source": [
    "If the Source port is 53 then it is a response from the DNS server and there are 987 responses given "
   ]
  },
  {
   "cell_type": "markdown",
   "metadata": {},
   "source": [
    "## Destination Ports"
   ]
  },
  {
   "cell_type": "code",
   "execution_count": 6,
   "metadata": {},
   "outputs": [
    {
     "output_type": "execute_result",
     "data": {
      "text/plain": [
       "     destination_port  count\n",
       "0                  53   1036\n",
       "1               63852    116\n",
       "2               63853      6\n",
       "3               64129      3\n",
       "4               56511      3\n",
       "..                ...    ...\n",
       "814             55988      1\n",
       "815             53941      1\n",
       "816             50575      1\n",
       "817             60090      1\n",
       "818             52408      1\n",
       "\n",
       "[819 rows x 2 columns]"
      ],
      "text/html": "<div>\n<style scoped>\n    .dataframe tbody tr th:only-of-type {\n        vertical-align: middle;\n    }\n\n    .dataframe tbody tr th {\n        vertical-align: top;\n    }\n\n    .dataframe thead th {\n        text-align: right;\n    }\n</style>\n<table border=\"1\" class=\"dataframe\">\n  <thead>\n    <tr style=\"text-align: right;\">\n      <th></th>\n      <th>destination_port</th>\n      <th>count</th>\n    </tr>\n  </thead>\n  <tbody>\n    <tr>\n      <th>0</th>\n      <td>53</td>\n      <td>1036</td>\n    </tr>\n    <tr>\n      <th>1</th>\n      <td>63852</td>\n      <td>116</td>\n    </tr>\n    <tr>\n      <th>2</th>\n      <td>63853</td>\n      <td>6</td>\n    </tr>\n    <tr>\n      <th>3</th>\n      <td>64129</td>\n      <td>3</td>\n    </tr>\n    <tr>\n      <th>4</th>\n      <td>56511</td>\n      <td>3</td>\n    </tr>\n    <tr>\n      <th>...</th>\n      <td>...</td>\n      <td>...</td>\n    </tr>\n    <tr>\n      <th>814</th>\n      <td>55988</td>\n      <td>1</td>\n    </tr>\n    <tr>\n      <th>815</th>\n      <td>53941</td>\n      <td>1</td>\n    </tr>\n    <tr>\n      <th>816</th>\n      <td>50575</td>\n      <td>1</td>\n    </tr>\n    <tr>\n      <th>817</th>\n      <td>60090</td>\n      <td>1</td>\n    </tr>\n    <tr>\n      <th>818</th>\n      <td>52408</td>\n      <td>1</td>\n    </tr>\n  </tbody>\n</table>\n<p>819 rows × 2 columns</p>\n</div>"
     },
     "metadata": {},
     "execution_count": 6
    }
   ],
   "source": [
    "destination_port=df['DESTINATION_PORT'].value_counts()\n",
    "destination_port = pd.DataFrame(destination_port)\n",
    "destination_port.reset_index(level=0, inplace=True)\n",
    "destination_port.columns = ['destination_port','count']\n",
    "destination_port"
   ]
  },
  {
   "cell_type": "markdown",
   "metadata": {},
   "source": [
    "If the destination port is 53 then it is a request from the host sent to the server and there are 1036 requests sent"
   ]
  },
  {
   "cell_type": "markdown",
   "metadata": {},
   "source": [
    "# Flag Analysis\n",
    "Here we will analyse the flags in the DNS packet\n"
   ]
  },
  {
   "cell_type": "markdown",
   "metadata": {},
   "source": [
    "## 1. FLAG_QR\n",
    "0 and 1 are the flag bits <br>\n",
    "0 : It represents that the packet is a query <br>\n",
    "1 : It represents that the packet is a response for a particular query <br>"
   ]
  },
  {
   "cell_type": "code",
   "execution_count": 7,
   "metadata": {},
   "outputs": [
    {
     "output_type": "execute_result",
     "data": {
      "text/plain": [
       "0    1036\n",
       "1     987\n",
       "Name: FLAG_QR, dtype: int64"
      ]
     },
     "metadata": {},
     "execution_count": 7
    }
   ],
   "source": [
    "df['FLAG_QR'].value_counts()"
   ]
  },
  {
   "cell_type": "markdown",
   "metadata": {},
   "source": [
    "There are 1036 query packets <br>\n",
    "There are 987 response packets"
   ]
  },
  {
   "cell_type": "markdown",
   "metadata": {},
   "source": [
    "## 2. FLAG_OPCODE\n",
    "There are totaly 4 flag bits in OPCODE<br>\n",
    "0000 : It represents standard query <br>\n",
    "0100 : It represents inverse  <br>\n",
    "0010 and 0001 : It represents not used <br>\n",
    " "
   ]
  },
  {
   "cell_type": "code",
   "execution_count": 8,
   "metadata": {},
   "outputs": [
    {
     "output_type": "execute_result",
     "data": {
      "text/plain": [
       "0    2023\n",
       "Name: FLAG_OPCODE, dtype: int64"
      ]
     },
     "metadata": {},
     "execution_count": 8
    }
   ],
   "source": [
    "df['FLAG_OPCODE'].value_counts()"
   ]
  },
  {
   "cell_type": "markdown",
   "metadata": {},
   "source": [
    "Here all 2023 packets are standard query "
   ]
  },
  {
   "cell_type": "markdown",
   "metadata": {},
   "source": [
    "## 3. FLAG_A\n",
    "0 and 1 are the flag bits <br>\n",
    "0 : It represents that the packet is a non authoritive DNS answer <br>\n",
    "1 : It represents that the packet is a authoritive DNS answer <br>"
   ]
  },
  {
   "cell_type": "code",
   "execution_count": 9,
   "metadata": {},
   "outputs": [
    {
     "output_type": "execute_result",
     "data": {
      "text/plain": [
       "0    2023\n",
       "Name: FLAG_AA, dtype: int64"
      ]
     },
     "metadata": {},
     "execution_count": 9
    }
   ],
   "source": [
    "df['FLAG_AA'].value_counts()"
   ]
  },
  {
   "cell_type": "markdown",
   "metadata": {},
   "source": [
    "Here all 2023 packets are non authoritive DNS answer"
   ]
  },
  {
   "cell_type": "markdown",
   "metadata": {},
   "source": [
    "## 4. FLAG_TC\n",
    "0 and 1 are the flag bits <br>\n",
    "0 : It represents that the message is not truncated <br>\n",
    "1 : It represents that the message is truncated <br>"
   ]
  },
  {
   "cell_type": "code",
   "execution_count": 10,
   "metadata": {},
   "outputs": [
    {
     "output_type": "execute_result",
     "data": {
      "text/plain": [
       "0    2023\n",
       "Name: FLAG_TC, dtype: int64"
      ]
     },
     "metadata": {},
     "execution_count": 10
    }
   ],
   "source": [
    "df['FLAG_TC'].value_counts()"
   ]
  },
  {
   "cell_type": "markdown",
   "metadata": {},
   "source": [
    "Here all 2023 messages are not truncated"
   ]
  },
  {
   "cell_type": "markdown",
   "metadata": {},
   "source": [
    "## 5. FLAG_RD\n",
    "0 and 1 are the flag bits <br>\n",
    "0 : It represents that the query is non recursive <br>\n",
    "1 : It represents that the query is  recursive <br>"
   ]
  },
  {
   "cell_type": "code",
   "execution_count": 11,
   "metadata": {},
   "outputs": [
    {
     "output_type": "execute_result",
     "data": {
      "text/plain": [
       "1    2023\n",
       "Name: FLAG_RD, dtype: int64"
      ]
     },
     "metadata": {},
     "execution_count": 11
    }
   ],
   "source": [
    "df['FLAG_RD'].value_counts()"
   ]
  },
  {
   "cell_type": "markdown",
   "metadata": {},
   "source": [
    "Here all 2023 queries are recursive"
   ]
  },
  {
   "cell_type": "markdown",
   "metadata": {},
   "source": [
    "## 6. FLAG_RA\n",
    "0 and 1 are the flag bits <br>\n",
    "0 : It represents recursion not availble  <br>\n",
    "1 : It represents recursion  availble  <br>\n"
   ]
  },
  {
   "cell_type": "code",
   "execution_count": 12,
   "metadata": {},
   "outputs": [
    {
     "output_type": "execute_result",
     "data": {
      "text/plain": [
       "0    1036\n",
       "1     987\n",
       "Name: FLAG_RA, dtype: int64"
      ]
     },
     "metadata": {},
     "execution_count": 12
    }
   ],
   "source": [
    "df['FLAG_RA'].value_counts()"
   ]
  },
  {
   "cell_type": "markdown",
   "metadata": {},
   "source": [
    "Server can not resolve 1036 queries recursively  <br>\n",
    "Server can  resolve 987 queries recursively "
   ]
  },
  {
   "cell_type": "markdown",
   "metadata": {},
   "source": [
    "## 7. FLAG_Z and FLAG_CD\n",
    "These flags are used for reservation of future use\n",
    "\n"
   ]
  },
  {
   "cell_type": "markdown",
   "metadata": {},
   "source": [
    "## 8. FLAG_AD\n",
    "0 : It represents that the authoritive part of the query is not authenticated by the server <br>\n",
    "1 : It represents that the authoritive part of the query is  authenticated by the server <br>"
   ]
  },
  {
   "cell_type": "code",
   "execution_count": 13,
   "metadata": {},
   "outputs": [
    {
     "output_type": "execute_result",
     "data": {
      "text/plain": [
       "0    2023\n",
       "Name: FLAG_AD, dtype: int64"
      ]
     },
     "metadata": {},
     "execution_count": 13
    }
   ],
   "source": [
    "df['FLAG_AD'].value_counts()"
   ]
  },
  {
   "cell_type": "markdown",
   "metadata": {},
   "source": [
    "Here all 2023 queries whose authoritive part is not authenticated by the server"
   ]
  },
  {
   "cell_type": "markdown",
   "metadata": {},
   "source": [
    "## 9.FLAG_RCODE\n",
    "This contains 4 bits <br> \n",
    "0000 : No error <br>\n",
    "0100 : Format error in query <br>\n",
    "0010 : Server failure <br>\n",
    "0001 : Name does not exist <br>"
   ]
  },
  {
   "cell_type": "code",
   "execution_count": 14,
   "metadata": {},
   "outputs": [
    {
     "output_type": "execute_result",
     "data": {
      "text/plain": [
       "0    2023\n",
       "Name: FLAG_RCODE, dtype: int64"
      ]
     },
     "metadata": {},
     "execution_count": 14
    }
   ],
   "source": [
    "df['FLAG_RCODE'].value_counts()"
   ]
  },
  {
   "cell_type": "markdown",
   "metadata": {},
   "source": [
    "Here all 2023 queries does not have any error"
   ]
  },
  {
   "cell_type": "markdown",
   "metadata": {},
   "source": [
    "# Request-Response Analysis\n"
   ]
  },
  {
   "cell_type": "markdown",
   "metadata": {},
   "source": [
    "## Types of Request-Response \n",
    "It defines how the value is interpreted"
   ]
  },
  {
   "cell_type": "code",
   "execution_count": 19,
   "metadata": {},
   "outputs": [
    {
     "output_type": "execute_result",
     "data": {
      "text/plain": [
       "  Query_type  count\n",
       "0          A   1087\n",
       "1       AAAA    936"
      ],
      "text/html": "<div>\n<style scoped>\n    .dataframe tbody tr th:only-of-type {\n        vertical-align: middle;\n    }\n\n    .dataframe tbody tr th {\n        vertical-align: top;\n    }\n\n    .dataframe thead th {\n        text-align: right;\n    }\n</style>\n<table border=\"1\" class=\"dataframe\">\n  <thead>\n    <tr style=\"text-align: right;\">\n      <th></th>\n      <th>Query_type</th>\n      <th>count</th>\n    </tr>\n  </thead>\n  <tbody>\n    <tr>\n      <th>0</th>\n      <td>A</td>\n      <td>1087</td>\n    </tr>\n    <tr>\n      <th>1</th>\n      <td>AAAA</td>\n      <td>936</td>\n    </tr>\n  </tbody>\n</table>\n</div>"
     },
     "metadata": {},
     "execution_count": 19
    }
   ],
   "source": [
    "query_type=df['QUEARY_TYPE'].value_counts()\n",
    "query_type = pd.DataFrame(query_type)\n",
    "query_type.reset_index(level=0, inplace=True)\n",
    "query_type.columns = ['Query_type','count']\n",
    "query_type"
   ]
  },
  {
   "cell_type": "code",
   "execution_count": 20,
   "metadata": {},
   "outputs": [
    {
     "output_type": "execute_result",
     "data": {
      "text/plain": [
       "  Response type  count\n",
       "0         CNAME    446\n",
       "1             A    291\n",
       "2          AAAA    137\n",
       "3           SOA    184"
      ],
      "text/html": "<div>\n<style scoped>\n    .dataframe tbody tr th:only-of-type {\n        vertical-align: middle;\n    }\n\n    .dataframe tbody tr th {\n        vertical-align: top;\n    }\n\n    .dataframe thead th {\n        text-align: right;\n    }\n</style>\n<table border=\"1\" class=\"dataframe\">\n  <thead>\n    <tr style=\"text-align: right;\">\n      <th></th>\n      <th>Response type</th>\n      <th>count</th>\n    </tr>\n  </thead>\n  <tbody>\n    <tr>\n      <th>0</th>\n      <td>CNAME</td>\n      <td>446</td>\n    </tr>\n    <tr>\n      <th>1</th>\n      <td>A</td>\n      <td>291</td>\n    </tr>\n    <tr>\n      <th>2</th>\n      <td>AAAA</td>\n      <td>137</td>\n    </tr>\n    <tr>\n      <th>3</th>\n      <td>SOA</td>\n      <td>184</td>\n    </tr>\n  </tbody>\n</table>\n</div>"
     },
     "metadata": {},
     "execution_count": 20
    }
   ],
   "source": [
    "response_type1=df['Type'].value_counts()\n",
    "response_type2=df['type'].value_counts()\n",
    "response_type=pd.DataFrame(response_type1.append(response_type2))\n",
    "response_type.reset_index(level=0, inplace=True)\n",
    "response_type.columns = ['Response type','count']\n",
    "response_type"
   ]
  },
  {
   "cell_type": "code",
   "execution_count": 21,
   "metadata": {},
   "outputs": [
    {
     "output_type": "display_data",
     "data": {
      "application/vnd.plotly.v1+json": {
       "config": {
        "plotlyServerURL": "https://plot.ly"
       },
       "data": [
        {
         "name": "Request type",
         "type": "bar",
         "x": [
          "A",
          "AAAA"
         ],
         "y": [
          1087,
          936
         ]
        },
        {
         "name": "Response type",
         "type": "bar",
         "x": [
          "CNAME",
          "A",
          "AAAA",
          "SOA"
         ],
         "y": [
          446,
          291,
          137,
          184
         ]
        }
       ],
       "layout": {
        "autosize": false,
        "barmode": "stack",
        "height": 1000,
        "margin": {
         "b": 100,
         "l": 50,
         "pad": 4,
         "r": 50,
         "t": 100
        },
        "template": {
         "data": {
          "bar": [
           {
            "error_x": {
             "color": "#2a3f5f"
            },
            "error_y": {
             "color": "#2a3f5f"
            },
            "marker": {
             "line": {
              "color": "#E5ECF6",
              "width": 0.5
             }
            },
            "type": "bar"
           }
          ],
          "barpolar": [
           {
            "marker": {
             "line": {
              "color": "#E5ECF6",
              "width": 0.5
             }
            },
            "type": "barpolar"
           }
          ],
          "carpet": [
           {
            "aaxis": {
             "endlinecolor": "#2a3f5f",
             "gridcolor": "white",
             "linecolor": "white",
             "minorgridcolor": "white",
             "startlinecolor": "#2a3f5f"
            },
            "baxis": {
             "endlinecolor": "#2a3f5f",
             "gridcolor": "white",
             "linecolor": "white",
             "minorgridcolor": "white",
             "startlinecolor": "#2a3f5f"
            },
            "type": "carpet"
           }
          ],
          "choropleth": [
           {
            "colorbar": {
             "outlinewidth": 0,
             "ticks": ""
            },
            "type": "choropleth"
           }
          ],
          "contour": [
           {
            "colorbar": {
             "outlinewidth": 0,
             "ticks": ""
            },
            "colorscale": [
             [
              0,
              "#0d0887"
             ],
             [
              0.1111111111111111,
              "#46039f"
             ],
             [
              0.2222222222222222,
              "#7201a8"
             ],
             [
              0.3333333333333333,
              "#9c179e"
             ],
             [
              0.4444444444444444,
              "#bd3786"
             ],
             [
              0.5555555555555556,
              "#d8576b"
             ],
             [
              0.6666666666666666,
              "#ed7953"
             ],
             [
              0.7777777777777778,
              "#fb9f3a"
             ],
             [
              0.8888888888888888,
              "#fdca26"
             ],
             [
              1,
              "#f0f921"
             ]
            ],
            "type": "contour"
           }
          ],
          "contourcarpet": [
           {
            "colorbar": {
             "outlinewidth": 0,
             "ticks": ""
            },
            "type": "contourcarpet"
           }
          ],
          "heatmap": [
           {
            "colorbar": {
             "outlinewidth": 0,
             "ticks": ""
            },
            "colorscale": [
             [
              0,
              "#0d0887"
             ],
             [
              0.1111111111111111,
              "#46039f"
             ],
             [
              0.2222222222222222,
              "#7201a8"
             ],
             [
              0.3333333333333333,
              "#9c179e"
             ],
             [
              0.4444444444444444,
              "#bd3786"
             ],
             [
              0.5555555555555556,
              "#d8576b"
             ],
             [
              0.6666666666666666,
              "#ed7953"
             ],
             [
              0.7777777777777778,
              "#fb9f3a"
             ],
             [
              0.8888888888888888,
              "#fdca26"
             ],
             [
              1,
              "#f0f921"
             ]
            ],
            "type": "heatmap"
           }
          ],
          "heatmapgl": [
           {
            "colorbar": {
             "outlinewidth": 0,
             "ticks": ""
            },
            "colorscale": [
             [
              0,
              "#0d0887"
             ],
             [
              0.1111111111111111,
              "#46039f"
             ],
             [
              0.2222222222222222,
              "#7201a8"
             ],
             [
              0.3333333333333333,
              "#9c179e"
             ],
             [
              0.4444444444444444,
              "#bd3786"
             ],
             [
              0.5555555555555556,
              "#d8576b"
             ],
             [
              0.6666666666666666,
              "#ed7953"
             ],
             [
              0.7777777777777778,
              "#fb9f3a"
             ],
             [
              0.8888888888888888,
              "#fdca26"
             ],
             [
              1,
              "#f0f921"
             ]
            ],
            "type": "heatmapgl"
           }
          ],
          "histogram": [
           {
            "marker": {
             "colorbar": {
              "outlinewidth": 0,
              "ticks": ""
             }
            },
            "type": "histogram"
           }
          ],
          "histogram2d": [
           {
            "colorbar": {
             "outlinewidth": 0,
             "ticks": ""
            },
            "colorscale": [
             [
              0,
              "#0d0887"
             ],
             [
              0.1111111111111111,
              "#46039f"
             ],
             [
              0.2222222222222222,
              "#7201a8"
             ],
             [
              0.3333333333333333,
              "#9c179e"
             ],
             [
              0.4444444444444444,
              "#bd3786"
             ],
             [
              0.5555555555555556,
              "#d8576b"
             ],
             [
              0.6666666666666666,
              "#ed7953"
             ],
             [
              0.7777777777777778,
              "#fb9f3a"
             ],
             [
              0.8888888888888888,
              "#fdca26"
             ],
             [
              1,
              "#f0f921"
             ]
            ],
            "type": "histogram2d"
           }
          ],
          "histogram2dcontour": [
           {
            "colorbar": {
             "outlinewidth": 0,
             "ticks": ""
            },
            "colorscale": [
             [
              0,
              "#0d0887"
             ],
             [
              0.1111111111111111,
              "#46039f"
             ],
             [
              0.2222222222222222,
              "#7201a8"
             ],
             [
              0.3333333333333333,
              "#9c179e"
             ],
             [
              0.4444444444444444,
              "#bd3786"
             ],
             [
              0.5555555555555556,
              "#d8576b"
             ],
             [
              0.6666666666666666,
              "#ed7953"
             ],
             [
              0.7777777777777778,
              "#fb9f3a"
             ],
             [
              0.8888888888888888,
              "#fdca26"
             ],
             [
              1,
              "#f0f921"
             ]
            ],
            "type": "histogram2dcontour"
           }
          ],
          "mesh3d": [
           {
            "colorbar": {
             "outlinewidth": 0,
             "ticks": ""
            },
            "type": "mesh3d"
           }
          ],
          "parcoords": [
           {
            "line": {
             "colorbar": {
              "outlinewidth": 0,
              "ticks": ""
             }
            },
            "type": "parcoords"
           }
          ],
          "pie": [
           {
            "automargin": true,
            "type": "pie"
           }
          ],
          "scatter": [
           {
            "marker": {
             "colorbar": {
              "outlinewidth": 0,
              "ticks": ""
             }
            },
            "type": "scatter"
           }
          ],
          "scatter3d": [
           {
            "line": {
             "colorbar": {
              "outlinewidth": 0,
              "ticks": ""
             }
            },
            "marker": {
             "colorbar": {
              "outlinewidth": 0,
              "ticks": ""
             }
            },
            "type": "scatter3d"
           }
          ],
          "scattercarpet": [
           {
            "marker": {
             "colorbar": {
              "outlinewidth": 0,
              "ticks": ""
             }
            },
            "type": "scattercarpet"
           }
          ],
          "scattergeo": [
           {
            "marker": {
             "colorbar": {
              "outlinewidth": 0,
              "ticks": ""
             }
            },
            "type": "scattergeo"
           }
          ],
          "scattergl": [
           {
            "marker": {
             "colorbar": {
              "outlinewidth": 0,
              "ticks": ""
             }
            },
            "type": "scattergl"
           }
          ],
          "scattermapbox": [
           {
            "marker": {
             "colorbar": {
              "outlinewidth": 0,
              "ticks": ""
             }
            },
            "type": "scattermapbox"
           }
          ],
          "scatterpolar": [
           {
            "marker": {
             "colorbar": {
              "outlinewidth": 0,
              "ticks": ""
             }
            },
            "type": "scatterpolar"
           }
          ],
          "scatterpolargl": [
           {
            "marker": {
             "colorbar": {
              "outlinewidth": 0,
              "ticks": ""
             }
            },
            "type": "scatterpolargl"
           }
          ],
          "scatterternary": [
           {
            "marker": {
             "colorbar": {
              "outlinewidth": 0,
              "ticks": ""
             }
            },
            "type": "scatterternary"
           }
          ],
          "surface": [
           {
            "colorbar": {
             "outlinewidth": 0,
             "ticks": ""
            },
            "colorscale": [
             [
              0,
              "#0d0887"
             ],
             [
              0.1111111111111111,
              "#46039f"
             ],
             [
              0.2222222222222222,
              "#7201a8"
             ],
             [
              0.3333333333333333,
              "#9c179e"
             ],
             [
              0.4444444444444444,
              "#bd3786"
             ],
             [
              0.5555555555555556,
              "#d8576b"
             ],
             [
              0.6666666666666666,
              "#ed7953"
             ],
             [
              0.7777777777777778,
              "#fb9f3a"
             ],
             [
              0.8888888888888888,
              "#fdca26"
             ],
             [
              1,
              "#f0f921"
             ]
            ],
            "type": "surface"
           }
          ],
          "table": [
           {
            "cells": {
             "fill": {
              "color": "#EBF0F8"
             },
             "line": {
              "color": "white"
             }
            },
            "header": {
             "fill": {
              "color": "#C8D4E3"
             },
             "line": {
              "color": "white"
             }
            },
            "type": "table"
           }
          ]
         },
         "layout": {
          "annotationdefaults": {
           "arrowcolor": "#2a3f5f",
           "arrowhead": 0,
           "arrowwidth": 1
          },
          "autotypenumbers": "strict",
          "coloraxis": {
           "colorbar": {
            "outlinewidth": 0,
            "ticks": ""
           }
          },
          "colorscale": {
           "diverging": [
            [
             0,
             "#8e0152"
            ],
            [
             0.1,
             "#c51b7d"
            ],
            [
             0.2,
             "#de77ae"
            ],
            [
             0.3,
             "#f1b6da"
            ],
            [
             0.4,
             "#fde0ef"
            ],
            [
             0.5,
             "#f7f7f7"
            ],
            [
             0.6,
             "#e6f5d0"
            ],
            [
             0.7,
             "#b8e186"
            ],
            [
             0.8,
             "#7fbc41"
            ],
            [
             0.9,
             "#4d9221"
            ],
            [
             1,
             "#276419"
            ]
           ],
           "sequential": [
            [
             0,
             "#0d0887"
            ],
            [
             0.1111111111111111,
             "#46039f"
            ],
            [
             0.2222222222222222,
             "#7201a8"
            ],
            [
             0.3333333333333333,
             "#9c179e"
            ],
            [
             0.4444444444444444,
             "#bd3786"
            ],
            [
             0.5555555555555556,
             "#d8576b"
            ],
            [
             0.6666666666666666,
             "#ed7953"
            ],
            [
             0.7777777777777778,
             "#fb9f3a"
            ],
            [
             0.8888888888888888,
             "#fdca26"
            ],
            [
             1,
             "#f0f921"
            ]
           ],
           "sequentialminus": [
            [
             0,
             "#0d0887"
            ],
            [
             0.1111111111111111,
             "#46039f"
            ],
            [
             0.2222222222222222,
             "#7201a8"
            ],
            [
             0.3333333333333333,
             "#9c179e"
            ],
            [
             0.4444444444444444,
             "#bd3786"
            ],
            [
             0.5555555555555556,
             "#d8576b"
            ],
            [
             0.6666666666666666,
             "#ed7953"
            ],
            [
             0.7777777777777778,
             "#fb9f3a"
            ],
            [
             0.8888888888888888,
             "#fdca26"
            ],
            [
             1,
             "#f0f921"
            ]
           ]
          },
          "colorway": [
           "#636efa",
           "#EF553B",
           "#00cc96",
           "#ab63fa",
           "#FFA15A",
           "#19d3f3",
           "#FF6692",
           "#B6E880",
           "#FF97FF",
           "#FECB52"
          ],
          "font": {
           "color": "#2a3f5f"
          },
          "geo": {
           "bgcolor": "white",
           "lakecolor": "white",
           "landcolor": "#E5ECF6",
           "showlakes": true,
           "showland": true,
           "subunitcolor": "white"
          },
          "hoverlabel": {
           "align": "left"
          },
          "hovermode": "closest",
          "mapbox": {
           "style": "light"
          },
          "paper_bgcolor": "white",
          "plot_bgcolor": "#E5ECF6",
          "polar": {
           "angularaxis": {
            "gridcolor": "white",
            "linecolor": "white",
            "ticks": ""
           },
           "bgcolor": "#E5ECF6",
           "radialaxis": {
            "gridcolor": "white",
            "linecolor": "white",
            "ticks": ""
           }
          },
          "scene": {
           "xaxis": {
            "backgroundcolor": "#E5ECF6",
            "gridcolor": "white",
            "gridwidth": 2,
            "linecolor": "white",
            "showbackground": true,
            "ticks": "",
            "zerolinecolor": "white"
           },
           "yaxis": {
            "backgroundcolor": "#E5ECF6",
            "gridcolor": "white",
            "gridwidth": 2,
            "linecolor": "white",
            "showbackground": true,
            "ticks": "",
            "zerolinecolor": "white"
           },
           "zaxis": {
            "backgroundcolor": "#E5ECF6",
            "gridcolor": "white",
            "gridwidth": 2,
            "linecolor": "white",
            "showbackground": true,
            "ticks": "",
            "zerolinecolor": "white"
           }
          },
          "shapedefaults": {
           "line": {
            "color": "#2a3f5f"
           }
          },
          "ternary": {
           "aaxis": {
            "gridcolor": "white",
            "linecolor": "white",
            "ticks": ""
           },
           "baxis": {
            "gridcolor": "white",
            "linecolor": "white",
            "ticks": ""
           },
           "bgcolor": "#E5ECF6",
           "caxis": {
            "gridcolor": "white",
            "linecolor": "white",
            "ticks": ""
           }
          },
          "title": {
           "x": 0.05
          },
          "xaxis": {
           "automargin": true,
           "gridcolor": "white",
           "linecolor": "white",
           "ticks": "",
           "title": {
            "standoff": 15
           },
           "zerolinecolor": "white",
           "zerolinewidth": 2
          },
          "yaxis": {
           "automargin": true,
           "gridcolor": "white",
           "linecolor": "white",
           "ticks": "",
           "title": {
            "standoff": 15
           },
           "zerolinecolor": "white",
           "zerolinewidth": 2
          }
         }
        },
        "width": 1250
       }
      }
     },
     "metadata": {}
    }
   ],
   "source": [
    "fig = go.Figure(data=[\n",
    "    go.Bar(name='Request type', x=query_type['Query_type'], y=query_type['count']),\n",
    "    go.Bar(name='Response type', x=response_type['Response type'], y=response_type['count'])])\n",
    "fig.update_layout(autosize=False,width=1250,height=1000,barmode='stack',\n",
    "margin=dict(\n",
    "        l=50,\n",
    "        r=50,\n",
    "        b=100,\n",
    "        t=100,\n",
    "        pad=4\n",
    "    ))\n",
    "fig.show()"
   ]
  },
  {
   "cell_type": "markdown",
   "metadata": {},
   "source": [
    "The above graph tells us that there are 2 types of Requests and 4 types of Responses <br>\n",
    "<br>\n",
    "But there 6 common types of Requests and Responses<br>\n",
    "<b>CNAME</b> - Interpretation of value defines an alias for the official name of a host<br>\n",
    "<b>A</b> - Interpretation of value is 32- bit IPv4 address<br>\n",
    "<b>AAAA</b> - Interpretation of value is IPv6 address<br>\n",
    "<b>SOA</b> - Interpretation of value is marks the beginning of a zone<br>\n",
    "<b>MX</b> - Interpretation of value is redirects mail to a mail server<br>\n",
    "<b>NS</b> - Interpretation of value is Identifies the authoritative servers for a zone<br>\n",
    "\n",
    "\n"
   ]
  },
  {
   "cell_type": "markdown",
   "metadata": {},
   "source": [
    "## Top Talkers\n",
    "The traffic flows that generate the heaviest use of bandwidth are known as the Top Talkers. This report provides visibility for traffic analysis, security monitoring, accounting, load balancing, and capacity planning. It can include both optimized and pass-through traffic."
   ]
  },
  {
   "cell_type": "code",
   "execution_count": 22,
   "metadata": {},
   "outputs": [
    {
     "output_type": "execute_result",
     "data": {
      "text/plain": [
       "                   Domain names  count\n",
       "0         fonts.googleapis.com.     44\n",
       "1               www.google.com.     43\n",
       "2              www.gstatic.com.     38\n",
       "3             www.facebook.com.     36\n",
       "4              www.netacad.com.     31\n",
       "..                          ...    ...\n",
       "165       cisco-tags.cisco.com.      4\n",
       "166          forms.hsforms.com.      2\n",
       "167  teredo.ipv6.microsoft.com.      2\n",
       "168      tracking.crazyegg.com.      2\n",
       "169         www.googleapis.com.      2\n",
       "\n",
       "[170 rows x 2 columns]"
      ],
      "text/html": "<div>\n<style scoped>\n    .dataframe tbody tr th:only-of-type {\n        vertical-align: middle;\n    }\n\n    .dataframe tbody tr th {\n        vertical-align: top;\n    }\n\n    .dataframe thead th {\n        text-align: right;\n    }\n</style>\n<table border=\"1\" class=\"dataframe\">\n  <thead>\n    <tr style=\"text-align: right;\">\n      <th></th>\n      <th>Domain names</th>\n      <th>count</th>\n    </tr>\n  </thead>\n  <tbody>\n    <tr>\n      <th>0</th>\n      <td>fonts.googleapis.com.</td>\n      <td>44</td>\n    </tr>\n    <tr>\n      <th>1</th>\n      <td>www.google.com.</td>\n      <td>43</td>\n    </tr>\n    <tr>\n      <th>2</th>\n      <td>www.gstatic.com.</td>\n      <td>38</td>\n    </tr>\n    <tr>\n      <th>3</th>\n      <td>www.facebook.com.</td>\n      <td>36</td>\n    </tr>\n    <tr>\n      <th>4</th>\n      <td>www.netacad.com.</td>\n      <td>31</td>\n    </tr>\n    <tr>\n      <th>...</th>\n      <td>...</td>\n      <td>...</td>\n    </tr>\n    <tr>\n      <th>165</th>\n      <td>cisco-tags.cisco.com.</td>\n      <td>4</td>\n    </tr>\n    <tr>\n      <th>166</th>\n      <td>forms.hsforms.com.</td>\n      <td>2</td>\n    </tr>\n    <tr>\n      <th>167</th>\n      <td>teredo.ipv6.microsoft.com.</td>\n      <td>2</td>\n    </tr>\n    <tr>\n      <th>168</th>\n      <td>tracking.crazyegg.com.</td>\n      <td>2</td>\n    </tr>\n    <tr>\n      <th>169</th>\n      <td>www.googleapis.com.</td>\n      <td>2</td>\n    </tr>\n  </tbody>\n</table>\n<p>170 rows × 2 columns</p>\n</div>"
     },
     "metadata": {},
     "execution_count": 22
    }
   ],
   "source": [
    "y=df['QUEARY_NAME'].value_counts()\n",
    "Top_talkers=y.reset_index(level=None, drop=False, name=None)\n",
    "Top_talkers.columns = ['Domain names','count']\n",
    "Top_talkers"
   ]
  },
  {
   "cell_type": "code",
   "execution_count": 23,
   "metadata": {},
   "outputs": [
    {
     "output_type": "display_data",
     "data": {
      "application/vnd.plotly.v1+json": {
       "config": {
        "plotlyServerURL": "https://plot.ly"
       },
       "data": [
        {
         "alignmentgroup": "True",
         "hovertemplate": "Domain names=%{x}<br>count=%{y}<extra></extra>",
         "legendgroup": "",
         "marker": {
          "color": "#636efa"
         },
         "name": "",
         "offsetgroup": "",
         "orientation": "v",
         "showlegend": false,
         "textposition": "auto",
         "type": "bar",
         "x": [
          "fonts.googleapis.com.",
          "www.google.com.",
          "www.gstatic.com.",
          "www.facebook.com.",
          "www.netacad.com.",
          "github.com.",
          "fonts.gstatic.com.",
          "api.github.com.",
          "mail.google.com.",
          "cisco.demdex.net.",
          "cdnjs.cloudflare.com.",
          "www.cisco.com.",
          "safebrowsing.google.com.",
          "www.googletagmanager.com.",
          "cdn.snigelweb.com.",
          "ajax.googleapis.com.",
          "ing-district.clicktale.net.",
          "bat.bing.com.",
          "c.clicktale.net.",
          "maxcdn.bootstrapcdn.com.",
          "www.easytourz.com.",
          "chat.google.com.",
          "clients2.google.com.",
          "www.hackerrank.com.",
          "erp.sit.ac.in.",
          "metrics.hackerrank.com.",
          "b.6sc.co.",
          "api.faceprep.in.",
          "github-cloud.s3.amazonaws.com.",
          "ssl.gstatic.com.",
          "app.link.",
          "www.google-analytics.com.",
          "chat-pa.clients6.google.com.",
          "apis.google.com.",
          "ssit.faceprep.in.",
          "clients6.google.com.",
          "connect.facebook.net.",
          "www.googleadservices.com.",
          "www.prepbytes.com.",
          "signaler-pa.clients6.google.com.",
          "encrypted-tbn0.gstatic.com.",
          "people-pa.clients6.google.com.",
          "www.youtube.com.",
          "collector.githubapp.com.",
          "hangouts.google.com.",
          "www.udemy.com.",
          "i.ytimg.com.",
          "contacts.google.com.",
          "cdn.eduthrill.com.",
          "api2.branch.io.",
          "wchat.in.freshchat.com.",
          "github.githubassets.com.",
          "j.6sc.co.",
          "ipapi.co.",
          "prepbytes.webpush.in.freshchat.com.",
          "ogs.google.com.",
          "s.w.org.",
          "col.eum-appdynamics.com.",
          "aa.google.com.",
          "yt3.ggpht.com.",
          "play.google.com.",
          "q.quora.com.",
          "www.linkedin.com.",
          "cdn.ckeditor.com.",
          "accounts.google.com.",
          "web.eduthrill.com.",
          "uicdn.toast.com.",
          "addons-pa.clients6.google.com.",
          "clients4.google.com.",
          "server.prepbytes.com.",
          "static.hotjar.com.",
          "treatment.grammarly.com.",
          "0.client-channel.google.com.",
          "opac.sit.ac.in.",
          "asys.sit.ac.in.",
          "sit.irins.org.",
          "s.go-mpulse.net.",
          "moodle.sit.ac.in.",
          "use.fontawesome.com.",
          "docs.google.com.",
          "www.redditstatic.com.",
          "rts-static-prod.freshworksapi.com.",
          "wsdk-files.webengage.com.",
          "static-fastly.hackerearth.com.",
          "js.usemessages.com.",
          "page-events-ustats.udemy.com.",
          "electives.sit.ac.in.",
          "www.sitalumni.co.in.",
          "smetrics.cisco.com.",
          "lh3.googleusercontent.com.",
          "img-c.udemycdn.com.",
          "c.go-mpulse.net.",
          "user-images.githubusercontent.com.",
          "www.icredify.com.",
          "hrcdn.net.",
          "cdnssl.clicktale.net.",
          "api.hubspot.com.",
          "js.hs-scripts.com.",
          "img-b.udemycdn.com.",
          "cnv.event.prod.bidr.io.",
          "idsync.rlcdn.com.",
          "safebrowsing.googleapis.com.",
          "alb.reddit.com.",
          "avatars.githubusercontent.com.",
          "cdn.branch.io.",
          "pixel.pointmediatracker.com.",
          "forms.hubspot.com.",
          "f-log-extension.grammarly.io.",
          "cdn4.mxpnl.com.",
          "track.hubspot.com.",
          "059-vfz-834.mktoresp.com.",
          "gtm.udemy.com.",
          "use.typekit.net.",
          "sit.ac.in.",
          "content-autofill.googleapis.com.",
          "12.client-channel.google.com.",
          "j909zg3hz3c1-ds-aksb-a.akamaihd.net.",
          "cl.qualaroo.com.",
          "snap.licdn.com.",
          "script.crazyegg.com.",
          "hackerearth.zendesk.com.",
          "p.typekit.net.",
          "web.whatsapp.com.",
          "d27xxe7juh1us6.cloudfront.net.",
          "a.nel.cloudflare.com.",
          "tags.tiqcdn.com.",
          "static.whatsapp.net.",
          "www.hackerearth.com.",
          "appsitemsuggest-pa.clients6.google.com.",
          "hexagon-analytics.com.",
          "ekr.zdassets.com.",
          "clientservices.googleapis.com.",
          "my-learning.w3schools.com.",
          "syndication.twitter.com.",
          "js.hs-analytics.net.",
          "lh3.google.com.",
          "js.hs-banner.com.",
          "js.hscollectedforms.net.",
          "11.client-channel.google.com.",
          "bam-cell.nr-data.net.",
          "dns.msftncsi.com.",
          "js-agent.newrelic.com.",
          "cdn.mxpnl.com.",
          "collector-pxzhh9f9x0.px-cloud.net.",
          "api-js.mixpanel.com.",
          "s.udemycdn.com.",
          "www.w3schools.com.",
          "lh6.googleusercontent.com.",
          "cello.client-channel.google.com.",
          "drive.google.com.",
          "pchen66.github.io.",
          "p7tn464j.r.ap-southeast-1.awstrack.me.",
          "nexusrules.officeapps.live.com.",
          "lh5.googleusercontent.com.",
          "code.jquery.com.",
          "pps.whatsapp.net.",
          "assessment.hackerearth.com.",
          "assets.zendesk.com.",
          "static.zdassets.com.",
          "geo.qualaroo.com.",
          "www.dwin1.com.",
          "www.googleoptimize.com.",
          "platform.twitter.com.",
          "www.wsp.com.",
          "cdn.ravenjs.com.",
          "cisco-tags.cisco.com.",
          "forms.hsforms.com.",
          "teredo.ipv6.microsoft.com.",
          "tracking.crazyegg.com.",
          "www.googleapis.com."
         ],
         "xaxis": "x",
         "y": [
          44,
          43,
          38,
          36,
          31,
          31,
          31,
          26,
          26,
          25,
          25,
          25,
          25,
          24,
          23,
          23,
          23,
          23,
          23,
          22,
          22,
          22,
          22,
          22,
          22,
          22,
          22,
          21,
          21,
          20,
          20,
          20,
          19,
          18,
          18,
          18,
          18,
          18,
          18,
          18,
          16,
          16,
          16,
          16,
          16,
          16,
          16,
          16,
          15,
          15,
          15,
          14,
          14,
          14,
          14,
          14,
          14,
          14,
          14,
          13,
          13,
          13,
          12,
          12,
          12,
          12,
          12,
          12,
          12,
          12,
          12,
          11,
          11,
          11,
          11,
          11,
          11,
          10,
          10,
          10,
          10,
          10,
          10,
          10,
          9,
          9,
          9,
          9,
          9,
          9,
          8,
          8,
          8,
          8,
          8,
          8,
          8,
          8,
          8,
          8,
          8,
          8,
          8,
          8,
          8,
          8,
          8,
          8,
          8,
          8,
          8,
          8,
          7,
          7,
          6,
          6,
          6,
          6,
          6,
          6,
          6,
          6,
          6,
          6,
          6,
          6,
          5,
          5,
          5,
          4,
          4,
          4,
          4,
          4,
          4,
          4,
          4,
          4,
          4,
          4,
          4,
          4,
          4,
          4,
          4,
          4,
          4,
          4,
          4,
          4,
          4,
          4,
          4,
          4,
          4,
          4,
          4,
          4,
          4,
          4,
          4,
          4,
          4,
          4,
          4,
          4,
          2,
          2,
          2,
          2
         ],
         "yaxis": "y"
        }
       ],
       "layout": {
        "autosize": false,
        "barmode": "relative",
        "height": 1000,
        "legend": {
         "tracegroupgap": 0
        },
        "margin": {
         "t": 60
        },
        "template": {
         "data": {
          "bar": [
           {
            "error_x": {
             "color": "#2a3f5f"
            },
            "error_y": {
             "color": "#2a3f5f"
            },
            "marker": {
             "line": {
              "color": "#E5ECF6",
              "width": 0.5
             }
            },
            "type": "bar"
           }
          ],
          "barpolar": [
           {
            "marker": {
             "line": {
              "color": "#E5ECF6",
              "width": 0.5
             }
            },
            "type": "barpolar"
           }
          ],
          "carpet": [
           {
            "aaxis": {
             "endlinecolor": "#2a3f5f",
             "gridcolor": "white",
             "linecolor": "white",
             "minorgridcolor": "white",
             "startlinecolor": "#2a3f5f"
            },
            "baxis": {
             "endlinecolor": "#2a3f5f",
             "gridcolor": "white",
             "linecolor": "white",
             "minorgridcolor": "white",
             "startlinecolor": "#2a3f5f"
            },
            "type": "carpet"
           }
          ],
          "choropleth": [
           {
            "colorbar": {
             "outlinewidth": 0,
             "ticks": ""
            },
            "type": "choropleth"
           }
          ],
          "contour": [
           {
            "colorbar": {
             "outlinewidth": 0,
             "ticks": ""
            },
            "colorscale": [
             [
              0,
              "#0d0887"
             ],
             [
              0.1111111111111111,
              "#46039f"
             ],
             [
              0.2222222222222222,
              "#7201a8"
             ],
             [
              0.3333333333333333,
              "#9c179e"
             ],
             [
              0.4444444444444444,
              "#bd3786"
             ],
             [
              0.5555555555555556,
              "#d8576b"
             ],
             [
              0.6666666666666666,
              "#ed7953"
             ],
             [
              0.7777777777777778,
              "#fb9f3a"
             ],
             [
              0.8888888888888888,
              "#fdca26"
             ],
             [
              1,
              "#f0f921"
             ]
            ],
            "type": "contour"
           }
          ],
          "contourcarpet": [
           {
            "colorbar": {
             "outlinewidth": 0,
             "ticks": ""
            },
            "type": "contourcarpet"
           }
          ],
          "heatmap": [
           {
            "colorbar": {
             "outlinewidth": 0,
             "ticks": ""
            },
            "colorscale": [
             [
              0,
              "#0d0887"
             ],
             [
              0.1111111111111111,
              "#46039f"
             ],
             [
              0.2222222222222222,
              "#7201a8"
             ],
             [
              0.3333333333333333,
              "#9c179e"
             ],
             [
              0.4444444444444444,
              "#bd3786"
             ],
             [
              0.5555555555555556,
              "#d8576b"
             ],
             [
              0.6666666666666666,
              "#ed7953"
             ],
             [
              0.7777777777777778,
              "#fb9f3a"
             ],
             [
              0.8888888888888888,
              "#fdca26"
             ],
             [
              1,
              "#f0f921"
             ]
            ],
            "type": "heatmap"
           }
          ],
          "heatmapgl": [
           {
            "colorbar": {
             "outlinewidth": 0,
             "ticks": ""
            },
            "colorscale": [
             [
              0,
              "#0d0887"
             ],
             [
              0.1111111111111111,
              "#46039f"
             ],
             [
              0.2222222222222222,
              "#7201a8"
             ],
             [
              0.3333333333333333,
              "#9c179e"
             ],
             [
              0.4444444444444444,
              "#bd3786"
             ],
             [
              0.5555555555555556,
              "#d8576b"
             ],
             [
              0.6666666666666666,
              "#ed7953"
             ],
             [
              0.7777777777777778,
              "#fb9f3a"
             ],
             [
              0.8888888888888888,
              "#fdca26"
             ],
             [
              1,
              "#f0f921"
             ]
            ],
            "type": "heatmapgl"
           }
          ],
          "histogram": [
           {
            "marker": {
             "colorbar": {
              "outlinewidth": 0,
              "ticks": ""
             }
            },
            "type": "histogram"
           }
          ],
          "histogram2d": [
           {
            "colorbar": {
             "outlinewidth": 0,
             "ticks": ""
            },
            "colorscale": [
             [
              0,
              "#0d0887"
             ],
             [
              0.1111111111111111,
              "#46039f"
             ],
             [
              0.2222222222222222,
              "#7201a8"
             ],
             [
              0.3333333333333333,
              "#9c179e"
             ],
             [
              0.4444444444444444,
              "#bd3786"
             ],
             [
              0.5555555555555556,
              "#d8576b"
             ],
             [
              0.6666666666666666,
              "#ed7953"
             ],
             [
              0.7777777777777778,
              "#fb9f3a"
             ],
             [
              0.8888888888888888,
              "#fdca26"
             ],
             [
              1,
              "#f0f921"
             ]
            ],
            "type": "histogram2d"
           }
          ],
          "histogram2dcontour": [
           {
            "colorbar": {
             "outlinewidth": 0,
             "ticks": ""
            },
            "colorscale": [
             [
              0,
              "#0d0887"
             ],
             [
              0.1111111111111111,
              "#46039f"
             ],
             [
              0.2222222222222222,
              "#7201a8"
             ],
             [
              0.3333333333333333,
              "#9c179e"
             ],
             [
              0.4444444444444444,
              "#bd3786"
             ],
             [
              0.5555555555555556,
              "#d8576b"
             ],
             [
              0.6666666666666666,
              "#ed7953"
             ],
             [
              0.7777777777777778,
              "#fb9f3a"
             ],
             [
              0.8888888888888888,
              "#fdca26"
             ],
             [
              1,
              "#f0f921"
             ]
            ],
            "type": "histogram2dcontour"
           }
          ],
          "mesh3d": [
           {
            "colorbar": {
             "outlinewidth": 0,
             "ticks": ""
            },
            "type": "mesh3d"
           }
          ],
          "parcoords": [
           {
            "line": {
             "colorbar": {
              "outlinewidth": 0,
              "ticks": ""
             }
            },
            "type": "parcoords"
           }
          ],
          "pie": [
           {
            "automargin": true,
            "type": "pie"
           }
          ],
          "scatter": [
           {
            "marker": {
             "colorbar": {
              "outlinewidth": 0,
              "ticks": ""
             }
            },
            "type": "scatter"
           }
          ],
          "scatter3d": [
           {
            "line": {
             "colorbar": {
              "outlinewidth": 0,
              "ticks": ""
             }
            },
            "marker": {
             "colorbar": {
              "outlinewidth": 0,
              "ticks": ""
             }
            },
            "type": "scatter3d"
           }
          ],
          "scattercarpet": [
           {
            "marker": {
             "colorbar": {
              "outlinewidth": 0,
              "ticks": ""
             }
            },
            "type": "scattercarpet"
           }
          ],
          "scattergeo": [
           {
            "marker": {
             "colorbar": {
              "outlinewidth": 0,
              "ticks": ""
             }
            },
            "type": "scattergeo"
           }
          ],
          "scattergl": [
           {
            "marker": {
             "colorbar": {
              "outlinewidth": 0,
              "ticks": ""
             }
            },
            "type": "scattergl"
           }
          ],
          "scattermapbox": [
           {
            "marker": {
             "colorbar": {
              "outlinewidth": 0,
              "ticks": ""
             }
            },
            "type": "scattermapbox"
           }
          ],
          "scatterpolar": [
           {
            "marker": {
             "colorbar": {
              "outlinewidth": 0,
              "ticks": ""
             }
            },
            "type": "scatterpolar"
           }
          ],
          "scatterpolargl": [
           {
            "marker": {
             "colorbar": {
              "outlinewidth": 0,
              "ticks": ""
             }
            },
            "type": "scatterpolargl"
           }
          ],
          "scatterternary": [
           {
            "marker": {
             "colorbar": {
              "outlinewidth": 0,
              "ticks": ""
             }
            },
            "type": "scatterternary"
           }
          ],
          "surface": [
           {
            "colorbar": {
             "outlinewidth": 0,
             "ticks": ""
            },
            "colorscale": [
             [
              0,
              "#0d0887"
             ],
             [
              0.1111111111111111,
              "#46039f"
             ],
             [
              0.2222222222222222,
              "#7201a8"
             ],
             [
              0.3333333333333333,
              "#9c179e"
             ],
             [
              0.4444444444444444,
              "#bd3786"
             ],
             [
              0.5555555555555556,
              "#d8576b"
             ],
             [
              0.6666666666666666,
              "#ed7953"
             ],
             [
              0.7777777777777778,
              "#fb9f3a"
             ],
             [
              0.8888888888888888,
              "#fdca26"
             ],
             [
              1,
              "#f0f921"
             ]
            ],
            "type": "surface"
           }
          ],
          "table": [
           {
            "cells": {
             "fill": {
              "color": "#EBF0F8"
             },
             "line": {
              "color": "white"
             }
            },
            "header": {
             "fill": {
              "color": "#C8D4E3"
             },
             "line": {
              "color": "white"
             }
            },
            "type": "table"
           }
          ]
         },
         "layout": {
          "annotationdefaults": {
           "arrowcolor": "#2a3f5f",
           "arrowhead": 0,
           "arrowwidth": 1
          },
          "autotypenumbers": "strict",
          "coloraxis": {
           "colorbar": {
            "outlinewidth": 0,
            "ticks": ""
           }
          },
          "colorscale": {
           "diverging": [
            [
             0,
             "#8e0152"
            ],
            [
             0.1,
             "#c51b7d"
            ],
            [
             0.2,
             "#de77ae"
            ],
            [
             0.3,
             "#f1b6da"
            ],
            [
             0.4,
             "#fde0ef"
            ],
            [
             0.5,
             "#f7f7f7"
            ],
            [
             0.6,
             "#e6f5d0"
            ],
            [
             0.7,
             "#b8e186"
            ],
            [
             0.8,
             "#7fbc41"
            ],
            [
             0.9,
             "#4d9221"
            ],
            [
             1,
             "#276419"
            ]
           ],
           "sequential": [
            [
             0,
             "#0d0887"
            ],
            [
             0.1111111111111111,
             "#46039f"
            ],
            [
             0.2222222222222222,
             "#7201a8"
            ],
            [
             0.3333333333333333,
             "#9c179e"
            ],
            [
             0.4444444444444444,
             "#bd3786"
            ],
            [
             0.5555555555555556,
             "#d8576b"
            ],
            [
             0.6666666666666666,
             "#ed7953"
            ],
            [
             0.7777777777777778,
             "#fb9f3a"
            ],
            [
             0.8888888888888888,
             "#fdca26"
            ],
            [
             1,
             "#f0f921"
            ]
           ],
           "sequentialminus": [
            [
             0,
             "#0d0887"
            ],
            [
             0.1111111111111111,
             "#46039f"
            ],
            [
             0.2222222222222222,
             "#7201a8"
            ],
            [
             0.3333333333333333,
             "#9c179e"
            ],
            [
             0.4444444444444444,
             "#bd3786"
            ],
            [
             0.5555555555555556,
             "#d8576b"
            ],
            [
             0.6666666666666666,
             "#ed7953"
            ],
            [
             0.7777777777777778,
             "#fb9f3a"
            ],
            [
             0.8888888888888888,
             "#fdca26"
            ],
            [
             1,
             "#f0f921"
            ]
           ]
          },
          "colorway": [
           "#636efa",
           "#EF553B",
           "#00cc96",
           "#ab63fa",
           "#FFA15A",
           "#19d3f3",
           "#FF6692",
           "#B6E880",
           "#FF97FF",
           "#FECB52"
          ],
          "font": {
           "color": "#2a3f5f"
          },
          "geo": {
           "bgcolor": "white",
           "lakecolor": "white",
           "landcolor": "#E5ECF6",
           "showlakes": true,
           "showland": true,
           "subunitcolor": "white"
          },
          "hoverlabel": {
           "align": "left"
          },
          "hovermode": "closest",
          "mapbox": {
           "style": "light"
          },
          "paper_bgcolor": "white",
          "plot_bgcolor": "#E5ECF6",
          "polar": {
           "angularaxis": {
            "gridcolor": "white",
            "linecolor": "white",
            "ticks": ""
           },
           "bgcolor": "#E5ECF6",
           "radialaxis": {
            "gridcolor": "white",
            "linecolor": "white",
            "ticks": ""
           }
          },
          "scene": {
           "xaxis": {
            "backgroundcolor": "#E5ECF6",
            "gridcolor": "white",
            "gridwidth": 2,
            "linecolor": "white",
            "showbackground": true,
            "ticks": "",
            "zerolinecolor": "white"
           },
           "yaxis": {
            "backgroundcolor": "#E5ECF6",
            "gridcolor": "white",
            "gridwidth": 2,
            "linecolor": "white",
            "showbackground": true,
            "ticks": "",
            "zerolinecolor": "white"
           },
           "zaxis": {
            "backgroundcolor": "#E5ECF6",
            "gridcolor": "white",
            "gridwidth": 2,
            "linecolor": "white",
            "showbackground": true,
            "ticks": "",
            "zerolinecolor": "white"
           }
          },
          "shapedefaults": {
           "line": {
            "color": "#2a3f5f"
           }
          },
          "ternary": {
           "aaxis": {
            "gridcolor": "white",
            "linecolor": "white",
            "ticks": ""
           },
           "baxis": {
            "gridcolor": "white",
            "linecolor": "white",
            "ticks": ""
           },
           "bgcolor": "#E5ECF6",
           "caxis": {
            "gridcolor": "white",
            "linecolor": "white",
            "ticks": ""
           }
          },
          "title": {
           "x": 0.05
          },
          "xaxis": {
           "automargin": true,
           "gridcolor": "white",
           "linecolor": "white",
           "ticks": "",
           "title": {
            "standoff": 15
           },
           "zerolinecolor": "white",
           "zerolinewidth": 2
          },
          "yaxis": {
           "automargin": true,
           "gridcolor": "white",
           "linecolor": "white",
           "ticks": "",
           "title": {
            "standoff": 15
           },
           "zerolinecolor": "white",
           "zerolinewidth": 2
          }
         }
        },
        "uniformtext": {
         "minsize": 20,
         "mode": "hide"
        },
        "width": 1250,
        "xaxis": {
         "anchor": "y",
         "domain": [
          0,
          1
         ],
         "title": {
          "text": "Domain names"
         }
        },
        "yaxis": {
         "anchor": "x",
         "domain": [
          0,
          1
         ],
         "title": {
          "text": "count"
         }
        }
       }
      }
     },
     "metadata": {}
    }
   ],
   "source": [
    "import plotly.express as px\n",
    "fig = px.bar(Top_talkers, x='Domain names', y='count')\n",
    "fig.update_layout(uniformtext_minsize=20, uniformtext_mode='hide',autosize=False,width=1250,height=1000)\n",
    "fig.show()"
   ]
  },
  {
   "cell_type": "markdown",
   "metadata": {},
   "source": [
    "From the above graph we can say that the Top Talker is \"fonts.googleapis.com\" with 44 request interaction"
   ]
  },
  {
   "source": [
    "## Response-Request Count Analysis\n",
    "Here we are analysing the number of requests sent and number of responses received for a particular domain name \n"
   ],
   "cell_type": "markdown",
   "metadata": {}
  },
  {
   "cell_type": "code",
   "execution_count": 15,
   "metadata": {},
   "outputs": [
    {
     "output_type": "execute_result",
     "data": {
      "text/plain": [
       "                     Query_Name  count\n",
       "0         fonts.googleapis.com.     44\n",
       "1               www.google.com.     43\n",
       "2              www.gstatic.com.     38\n",
       "3             www.facebook.com.     36\n",
       "4              www.netacad.com.     31\n",
       "..                          ...    ...\n",
       "165       cisco-tags.cisco.com.      4\n",
       "166          forms.hsforms.com.      2\n",
       "167  teredo.ipv6.microsoft.com.      2\n",
       "168      tracking.crazyegg.com.      2\n",
       "169         www.googleapis.com.      2\n",
       "\n",
       "[170 rows x 2 columns]"
      ],
      "text/html": "<div>\n<style scoped>\n    .dataframe tbody tr th:only-of-type {\n        vertical-align: middle;\n    }\n\n    .dataframe tbody tr th {\n        vertical-align: top;\n    }\n\n    .dataframe thead th {\n        text-align: right;\n    }\n</style>\n<table border=\"1\" class=\"dataframe\">\n  <thead>\n    <tr style=\"text-align: right;\">\n      <th></th>\n      <th>Query_Name</th>\n      <th>count</th>\n    </tr>\n  </thead>\n  <tbody>\n    <tr>\n      <th>0</th>\n      <td>fonts.googleapis.com.</td>\n      <td>44</td>\n    </tr>\n    <tr>\n      <th>1</th>\n      <td>www.google.com.</td>\n      <td>43</td>\n    </tr>\n    <tr>\n      <th>2</th>\n      <td>www.gstatic.com.</td>\n      <td>38</td>\n    </tr>\n    <tr>\n      <th>3</th>\n      <td>www.facebook.com.</td>\n      <td>36</td>\n    </tr>\n    <tr>\n      <th>4</th>\n      <td>www.netacad.com.</td>\n      <td>31</td>\n    </tr>\n    <tr>\n      <th>...</th>\n      <td>...</td>\n      <td>...</td>\n    </tr>\n    <tr>\n      <th>165</th>\n      <td>cisco-tags.cisco.com.</td>\n      <td>4</td>\n    </tr>\n    <tr>\n      <th>166</th>\n      <td>forms.hsforms.com.</td>\n      <td>2</td>\n    </tr>\n    <tr>\n      <th>167</th>\n      <td>teredo.ipv6.microsoft.com.</td>\n      <td>2</td>\n    </tr>\n    <tr>\n      <th>168</th>\n      <td>tracking.crazyegg.com.</td>\n      <td>2</td>\n    </tr>\n    <tr>\n      <th>169</th>\n      <td>www.googleapis.com.</td>\n      <td>2</td>\n    </tr>\n  </tbody>\n</table>\n<p>170 rows × 2 columns</p>\n</div>"
     },
     "metadata": {},
     "execution_count": 15
    }
   ],
   "source": [
    "y=df['QUEARY_NAME'].value_counts()\n",
    "Query_name=y.reset_index(level=None, drop=False, name=None)\n",
    "Query_name.columns = ['Query_Name','count']\n",
    "Query_name"
   ]
  },
  {
   "cell_type": "code",
   "execution_count": 16,
   "metadata": {},
   "outputs": [
    {
     "output_type": "execute_result",
     "data": {
      "text/plain": [
       "                Response_Name  count\n",
       "0       fonts.googleapis.com.     20\n",
       "1             www.google.com.     19\n",
       "2            www.gstatic.com.     19\n",
       "3           www.facebook.com.     18\n",
       "4          fonts.gstatic.com.     16\n",
       "..                        ...    ...\n",
       "164    hexagon-analytics.com.      1\n",
       "165      static.zdassets.com.      1\n",
       "166    tracking.crazyegg.com.      1\n",
       "167  syndication.twitter.com.      1\n",
       "168         ekr.zdassets.com.      1\n",
       "\n",
       "[169 rows x 2 columns]"
      ],
      "text/html": "<div>\n<style scoped>\n    .dataframe tbody tr th:only-of-type {\n        vertical-align: middle;\n    }\n\n    .dataframe tbody tr th {\n        vertical-align: top;\n    }\n\n    .dataframe thead th {\n        text-align: right;\n    }\n</style>\n<table border=\"1\" class=\"dataframe\">\n  <thead>\n    <tr style=\"text-align: right;\">\n      <th></th>\n      <th>Response_Name</th>\n      <th>count</th>\n    </tr>\n  </thead>\n  <tbody>\n    <tr>\n      <th>0</th>\n      <td>fonts.googleapis.com.</td>\n      <td>20</td>\n    </tr>\n    <tr>\n      <th>1</th>\n      <td>www.google.com.</td>\n      <td>19</td>\n    </tr>\n    <tr>\n      <th>2</th>\n      <td>www.gstatic.com.</td>\n      <td>19</td>\n    </tr>\n    <tr>\n      <th>3</th>\n      <td>www.facebook.com.</td>\n      <td>18</td>\n    </tr>\n    <tr>\n      <th>4</th>\n      <td>fonts.gstatic.com.</td>\n      <td>16</td>\n    </tr>\n    <tr>\n      <th>...</th>\n      <td>...</td>\n      <td>...</td>\n    </tr>\n    <tr>\n      <th>164</th>\n      <td>hexagon-analytics.com.</td>\n      <td>1</td>\n    </tr>\n    <tr>\n      <th>165</th>\n      <td>static.zdassets.com.</td>\n      <td>1</td>\n    </tr>\n    <tr>\n      <th>166</th>\n      <td>tracking.crazyegg.com.</td>\n      <td>1</td>\n    </tr>\n    <tr>\n      <th>167</th>\n      <td>syndication.twitter.com.</td>\n      <td>1</td>\n    </tr>\n    <tr>\n      <th>168</th>\n      <td>ekr.zdassets.com.</td>\n      <td>1</td>\n    </tr>\n  </tbody>\n</table>\n<p>169 rows × 2 columns</p>\n</div>"
     },
     "metadata": {},
     "execution_count": 16
    }
   ],
   "source": [
    "Response_Name=df['RR_name'].value_counts()\n",
    "Response_Name = pd.DataFrame(Response_Name)\n",
    "Response_Name.reset_index(level=0, inplace=True)\n",
    "Response_Name.columns = ['Response_Name','count']\n",
    "Response_Name"
   ]
  },
  {
   "cell_type": "code",
   "execution_count": 18,
   "metadata": {},
   "outputs": [
    {
     "output_type": "display_data",
     "data": {
      "application/vnd.plotly.v1+json": {
       "config": {
        "plotlyServerURL": "https://plot.ly"
       },
       "data": [
        {
         "name": "Request Name",
         "type": "bar",
         "x": [
          "fonts.googleapis.com.",
          "www.google.com.",
          "www.gstatic.com.",
          "www.facebook.com.",
          "www.netacad.com.",
          "github.com.",
          "fonts.gstatic.com.",
          "api.github.com.",
          "mail.google.com.",
          "cisco.demdex.net.",
          "cdnjs.cloudflare.com.",
          "www.cisco.com.",
          "safebrowsing.google.com.",
          "www.googletagmanager.com.",
          "cdn.snigelweb.com.",
          "ajax.googleapis.com.",
          "ing-district.clicktale.net.",
          "bat.bing.com.",
          "c.clicktale.net.",
          "maxcdn.bootstrapcdn.com.",
          "www.easytourz.com.",
          "chat.google.com.",
          "clients2.google.com.",
          "www.hackerrank.com.",
          "erp.sit.ac.in.",
          "metrics.hackerrank.com.",
          "b.6sc.co.",
          "api.faceprep.in.",
          "github-cloud.s3.amazonaws.com.",
          "ssl.gstatic.com.",
          "app.link.",
          "www.google-analytics.com.",
          "chat-pa.clients6.google.com.",
          "apis.google.com.",
          "ssit.faceprep.in.",
          "clients6.google.com.",
          "connect.facebook.net.",
          "www.googleadservices.com.",
          "www.prepbytes.com.",
          "signaler-pa.clients6.google.com.",
          "encrypted-tbn0.gstatic.com.",
          "people-pa.clients6.google.com.",
          "www.youtube.com.",
          "collector.githubapp.com.",
          "hangouts.google.com.",
          "www.udemy.com.",
          "i.ytimg.com.",
          "contacts.google.com.",
          "cdn.eduthrill.com.",
          "api2.branch.io.",
          "wchat.in.freshchat.com.",
          "github.githubassets.com.",
          "j.6sc.co.",
          "ipapi.co.",
          "prepbytes.webpush.in.freshchat.com.",
          "ogs.google.com.",
          "s.w.org.",
          "col.eum-appdynamics.com.",
          "aa.google.com.",
          "yt3.ggpht.com.",
          "play.google.com.",
          "q.quora.com.",
          "www.linkedin.com.",
          "cdn.ckeditor.com.",
          "accounts.google.com.",
          "web.eduthrill.com.",
          "uicdn.toast.com.",
          "addons-pa.clients6.google.com.",
          "clients4.google.com.",
          "server.prepbytes.com.",
          "static.hotjar.com.",
          "treatment.grammarly.com.",
          "0.client-channel.google.com.",
          "opac.sit.ac.in.",
          "asys.sit.ac.in.",
          "sit.irins.org.",
          "s.go-mpulse.net.",
          "moodle.sit.ac.in.",
          "use.fontawesome.com.",
          "docs.google.com.",
          "www.redditstatic.com.",
          "rts-static-prod.freshworksapi.com.",
          "wsdk-files.webengage.com.",
          "static-fastly.hackerearth.com.",
          "js.usemessages.com.",
          "page-events-ustats.udemy.com.",
          "electives.sit.ac.in.",
          "www.sitalumni.co.in.",
          "smetrics.cisco.com.",
          "lh3.googleusercontent.com.",
          "img-c.udemycdn.com.",
          "c.go-mpulse.net.",
          "user-images.githubusercontent.com.",
          "www.icredify.com.",
          "hrcdn.net.",
          "cdnssl.clicktale.net.",
          "api.hubspot.com.",
          "js.hs-scripts.com.",
          "img-b.udemycdn.com.",
          "cnv.event.prod.bidr.io.",
          "idsync.rlcdn.com.",
          "safebrowsing.googleapis.com.",
          "alb.reddit.com.",
          "avatars.githubusercontent.com.",
          "cdn.branch.io.",
          "pixel.pointmediatracker.com.",
          "forms.hubspot.com.",
          "f-log-extension.grammarly.io.",
          "cdn4.mxpnl.com.",
          "track.hubspot.com.",
          "059-vfz-834.mktoresp.com.",
          "gtm.udemy.com.",
          "use.typekit.net.",
          "sit.ac.in.",
          "content-autofill.googleapis.com.",
          "12.client-channel.google.com.",
          "j909zg3hz3c1-ds-aksb-a.akamaihd.net.",
          "cl.qualaroo.com.",
          "snap.licdn.com.",
          "script.crazyegg.com.",
          "hackerearth.zendesk.com.",
          "p.typekit.net.",
          "web.whatsapp.com.",
          "d27xxe7juh1us6.cloudfront.net.",
          "a.nel.cloudflare.com.",
          "tags.tiqcdn.com.",
          "static.whatsapp.net.",
          "www.hackerearth.com.",
          "appsitemsuggest-pa.clients6.google.com.",
          "hexagon-analytics.com.",
          "ekr.zdassets.com.",
          "clientservices.googleapis.com.",
          "my-learning.w3schools.com.",
          "syndication.twitter.com.",
          "js.hs-analytics.net.",
          "lh3.google.com.",
          "js.hs-banner.com.",
          "js.hscollectedforms.net.",
          "11.client-channel.google.com.",
          "bam-cell.nr-data.net.",
          "dns.msftncsi.com.",
          "js-agent.newrelic.com.",
          "cdn.mxpnl.com.",
          "collector-pxzhh9f9x0.px-cloud.net.",
          "api-js.mixpanel.com.",
          "s.udemycdn.com.",
          "www.w3schools.com.",
          "lh6.googleusercontent.com.",
          "cello.client-channel.google.com.",
          "drive.google.com.",
          "pchen66.github.io.",
          "p7tn464j.r.ap-southeast-1.awstrack.me.",
          "nexusrules.officeapps.live.com.",
          "lh5.googleusercontent.com.",
          "code.jquery.com.",
          "pps.whatsapp.net.",
          "assessment.hackerearth.com.",
          "assets.zendesk.com.",
          "static.zdassets.com.",
          "geo.qualaroo.com.",
          "www.dwin1.com.",
          "www.googleoptimize.com.",
          "platform.twitter.com.",
          "www.wsp.com.",
          "cdn.ravenjs.com.",
          "cisco-tags.cisco.com.",
          "forms.hsforms.com.",
          "teredo.ipv6.microsoft.com.",
          "tracking.crazyegg.com.",
          "www.googleapis.com."
         ],
         "y": [
          44,
          43,
          38,
          36,
          31,
          31,
          31,
          26,
          26,
          25,
          25,
          25,
          25,
          24,
          23,
          23,
          23,
          23,
          23,
          22,
          22,
          22,
          22,
          22,
          22,
          22,
          22,
          21,
          21,
          20,
          20,
          20,
          19,
          18,
          18,
          18,
          18,
          18,
          18,
          18,
          16,
          16,
          16,
          16,
          16,
          16,
          16,
          16,
          15,
          15,
          15,
          14,
          14,
          14,
          14,
          14,
          14,
          14,
          14,
          13,
          13,
          13,
          12,
          12,
          12,
          12,
          12,
          12,
          12,
          12,
          12,
          11,
          11,
          11,
          11,
          11,
          11,
          10,
          10,
          10,
          10,
          10,
          10,
          10,
          9,
          9,
          9,
          9,
          9,
          9,
          8,
          8,
          8,
          8,
          8,
          8,
          8,
          8,
          8,
          8,
          8,
          8,
          8,
          8,
          8,
          8,
          8,
          8,
          8,
          8,
          8,
          8,
          7,
          7,
          6,
          6,
          6,
          6,
          6,
          6,
          6,
          6,
          6,
          6,
          6,
          6,
          5,
          5,
          5,
          4,
          4,
          4,
          4,
          4,
          4,
          4,
          4,
          4,
          4,
          4,
          4,
          4,
          4,
          4,
          4,
          4,
          4,
          4,
          4,
          4,
          4,
          4,
          4,
          4,
          4,
          4,
          4,
          4,
          4,
          4,
          4,
          4,
          4,
          4,
          4,
          4,
          2,
          2,
          2,
          2
         ]
        },
        {
         "name": "Response Name",
         "type": "bar",
         "x": [
          "fonts.googleapis.com.",
          "www.google.com.",
          "www.gstatic.com.",
          "www.facebook.com.",
          "fonts.gstatic.com.",
          "www.netacad.com.",
          "mail.google.com.",
          "www.googletagmanager.com.",
          "cdn.snigelweb.com.",
          "cisco.demdex.net.",
          "www.cisco.com.",
          "cdnjs.cloudflare.com.",
          "www.hackerrank.com.",
          "ing-district.clicktale.net.",
          "ajax.googleapis.com.",
          "clients2.google.com.",
          "c.clicktale.net.",
          "chat.google.com.",
          "maxcdn.bootstrapcdn.com.",
          "b.6sc.co.",
          "bat.bing.com.",
          "safebrowsing.google.com.",
          "github-cloud.s3.amazonaws.com.",
          "chat-pa.clients6.google.com.",
          "ssl.gstatic.com.",
          "metrics.hackerrank.com.",
          "www.google-analytics.com.",
          "signaler-pa.clients6.google.com.",
          "app.link.",
          "connect.facebook.net.",
          "github.com.",
          "clients6.google.com.",
          "apis.google.com.",
          "encrypted-tbn0.gstatic.com.",
          "www.udemy.com.",
          "collector.githubapp.com.",
          "people-pa.clients6.google.com.",
          "contacts.google.com.",
          "www.youtube.com.",
          "hangouts.google.com.",
          "yt3.ggpht.com.",
          "ipapi.co.",
          "j.6sc.co.",
          "i.ytimg.com.",
          "api2.branch.io.",
          "ogs.google.com.",
          "aa.google.com.",
          "www.easytourz.com.",
          "erp.sit.ac.in.",
          "api.github.com.",
          "s.go-mpulse.net.",
          "play.google.com.",
          "www.linkedin.com.",
          "uicdn.toast.com.",
          "treatment.grammarly.com.",
          "addons-pa.clients6.google.com.",
          "clients4.google.com.",
          "static.hotjar.com.",
          "accounts.google.com.",
          "cdn.ckeditor.com.",
          "docs.google.com.",
          "api.faceprep.in.",
          "www.prepbytes.com.",
          "ssit.faceprep.in.",
          "use.fontawesome.com.",
          "wsdk-files.webengage.com.",
          "0.client-channel.google.com.",
          "www.googleadservices.com.",
          "static-fastly.hackerearth.com.",
          "github.githubassets.com.",
          "img-b.udemycdn.com.",
          "lh3.googleusercontent.com.",
          "cnv.event.prod.bidr.io.",
          "col.eum-appdynamics.com.",
          "js.hs-scripts.com.",
          "www.sitalumni.co.in.",
          "track.hubspot.com.",
          "api.hubspot.com.",
          "safebrowsing.googleapis.com.",
          "page-events-ustats.udemy.com.",
          "www.redditstatic.com.",
          "js.usemessages.com.",
          "cdnssl.clicktale.net.",
          "s.w.org.",
          "img-c.udemycdn.com.",
          "wchat.in.freshchat.com.",
          "c.go-mpulse.net.",
          "alb.reddit.com.",
          "smetrics.cisco.com.",
          "hrcdn.net.",
          "forms.hubspot.com.",
          "gtm.udemy.com.",
          "j909zg3hz3c1-ds-aksb-a.akamaihd.net.",
          "p.typekit.net.",
          "user-images.githubusercontent.com.",
          "cdn.eduthrill.com.",
          "cl.qualaroo.com.",
          "web.eduthrill.com.",
          "tags.tiqcdn.com.",
          "a.nel.cloudflare.com.",
          "web.whatsapp.com.",
          "rts-static-prod.freshworksapi.com.",
          "avatars.githubusercontent.com.",
          "use.typekit.net.",
          "script.crazyegg.com.",
          "snap.licdn.com.",
          "content-autofill.googleapis.com.",
          "12.client-channel.google.com.",
          "server.prepbytes.com.",
          "prepbytes.webpush.in.freshchat.com.",
          "q.quora.com.",
          "cdn.mxpnl.com.",
          "sit.ac.in.",
          "s.udemycdn.com.",
          "www.icredify.com.",
          "d27xxe7juh1us6.cloudfront.net.",
          "js.hs-analytics.net.",
          "f-log-extension.grammarly.io.",
          "js.hscollectedforms.net.",
          "assessment.hackerearth.com.",
          "static.whatsapp.net.",
          "www.hackerearth.com.",
          "appsitemsuggest-pa.clients6.google.com.",
          "pixel.pointmediatracker.com.",
          "www.googleoptimize.com.",
          "nexusrules.officeapps.live.com.",
          "js-agent.newrelic.com.",
          "www.wsp.com.",
          "dns.msftncsi.com.",
          "lh3.google.com.",
          "asys.sit.ac.in.",
          "assets.zendesk.com.",
          "lh5.googleusercontent.com.",
          "cdn4.mxpnl.com.",
          "code.jquery.com.",
          "hackerearth.zendesk.com.",
          "www.dwin1.com.",
          "www.w3schools.com.",
          "cdn.branch.io.",
          "moodle.sit.ac.in.",
          "sit.irins.org.",
          "cdn.ravenjs.com.",
          "p7tn464j.r.ap-southeast-1.awstrack.me.",
          "js.hs-banner.com.",
          "bam-cell.nr-data.net.",
          "cello.client-channel.google.com.",
          "clientservices.googleapis.com.",
          "opac.sit.ac.in.",
          "lh6.googleusercontent.com.",
          "pps.whatsapp.net.",
          "electives.sit.ac.in.",
          "drive.google.com.",
          "059-vfz-834.mktoresp.com.",
          "idsync.rlcdn.com.",
          "platform.twitter.com.",
          "11.client-channel.google.com.",
          "cisco-tags.cisco.com.",
          "www.googleapis.com.",
          "my-learning.w3schools.com.",
          "pchen66.github.io.",
          "forms.hsforms.com.",
          "geo.qualaroo.com.",
          "collector-pxzhh9f9x0.px-cloud.net.",
          "api-js.mixpanel.com.",
          "hexagon-analytics.com.",
          "static.zdassets.com.",
          "tracking.crazyegg.com.",
          "syndication.twitter.com.",
          "ekr.zdassets.com."
         ],
         "y": [
          20,
          19,
          19,
          18,
          16,
          15,
          13,
          12,
          12,
          12,
          12,
          12,
          11,
          11,
          11,
          11,
          11,
          11,
          11,
          11,
          11,
          11,
          10,
          10,
          10,
          10,
          10,
          9,
          9,
          9,
          9,
          9,
          9,
          8,
          8,
          8,
          8,
          8,
          8,
          7,
          7,
          7,
          7,
          7,
          7,
          7,
          7,
          6,
          6,
          6,
          6,
          6,
          6,
          6,
          6,
          6,
          6,
          6,
          6,
          6,
          5,
          5,
          5,
          5,
          5,
          5,
          5,
          5,
          5,
          5,
          4,
          4,
          4,
          4,
          4,
          4,
          4,
          4,
          4,
          4,
          4,
          4,
          4,
          4,
          4,
          4,
          4,
          4,
          4,
          4,
          4,
          4,
          3,
          3,
          3,
          3,
          3,
          3,
          3,
          3,
          3,
          3,
          3,
          3,
          3,
          3,
          3,
          3,
          3,
          3,
          3,
          2,
          2,
          2,
          2,
          2,
          2,
          2,
          2,
          2,
          2,
          2,
          2,
          2,
          2,
          2,
          2,
          2,
          2,
          2,
          2,
          2,
          2,
          2,
          2,
          2,
          2,
          2,
          2,
          2,
          2,
          2,
          2,
          2,
          2,
          2,
          2,
          2,
          2,
          2,
          2,
          2,
          2,
          2,
          2,
          2,
          1,
          1,
          1,
          1,
          1,
          1,
          1,
          1,
          1,
          1,
          1,
          1,
          1
         ]
        }
       ],
       "layout": {
        "autosize": false,
        "barmode": "stack",
        "height": 1000,
        "margin": {
         "b": 100,
         "l": 50,
         "pad": 4,
         "r": 50,
         "t": 100
        },
        "template": {
         "data": {
          "bar": [
           {
            "error_x": {
             "color": "#2a3f5f"
            },
            "error_y": {
             "color": "#2a3f5f"
            },
            "marker": {
             "line": {
              "color": "#E5ECF6",
              "width": 0.5
             }
            },
            "type": "bar"
           }
          ],
          "barpolar": [
           {
            "marker": {
             "line": {
              "color": "#E5ECF6",
              "width": 0.5
             }
            },
            "type": "barpolar"
           }
          ],
          "carpet": [
           {
            "aaxis": {
             "endlinecolor": "#2a3f5f",
             "gridcolor": "white",
             "linecolor": "white",
             "minorgridcolor": "white",
             "startlinecolor": "#2a3f5f"
            },
            "baxis": {
             "endlinecolor": "#2a3f5f",
             "gridcolor": "white",
             "linecolor": "white",
             "minorgridcolor": "white",
             "startlinecolor": "#2a3f5f"
            },
            "type": "carpet"
           }
          ],
          "choropleth": [
           {
            "colorbar": {
             "outlinewidth": 0,
             "ticks": ""
            },
            "type": "choropleth"
           }
          ],
          "contour": [
           {
            "colorbar": {
             "outlinewidth": 0,
             "ticks": ""
            },
            "colorscale": [
             [
              0,
              "#0d0887"
             ],
             [
              0.1111111111111111,
              "#46039f"
             ],
             [
              0.2222222222222222,
              "#7201a8"
             ],
             [
              0.3333333333333333,
              "#9c179e"
             ],
             [
              0.4444444444444444,
              "#bd3786"
             ],
             [
              0.5555555555555556,
              "#d8576b"
             ],
             [
              0.6666666666666666,
              "#ed7953"
             ],
             [
              0.7777777777777778,
              "#fb9f3a"
             ],
             [
              0.8888888888888888,
              "#fdca26"
             ],
             [
              1,
              "#f0f921"
             ]
            ],
            "type": "contour"
           }
          ],
          "contourcarpet": [
           {
            "colorbar": {
             "outlinewidth": 0,
             "ticks": ""
            },
            "type": "contourcarpet"
           }
          ],
          "heatmap": [
           {
            "colorbar": {
             "outlinewidth": 0,
             "ticks": ""
            },
            "colorscale": [
             [
              0,
              "#0d0887"
             ],
             [
              0.1111111111111111,
              "#46039f"
             ],
             [
              0.2222222222222222,
              "#7201a8"
             ],
             [
              0.3333333333333333,
              "#9c179e"
             ],
             [
              0.4444444444444444,
              "#bd3786"
             ],
             [
              0.5555555555555556,
              "#d8576b"
             ],
             [
              0.6666666666666666,
              "#ed7953"
             ],
             [
              0.7777777777777778,
              "#fb9f3a"
             ],
             [
              0.8888888888888888,
              "#fdca26"
             ],
             [
              1,
              "#f0f921"
             ]
            ],
            "type": "heatmap"
           }
          ],
          "heatmapgl": [
           {
            "colorbar": {
             "outlinewidth": 0,
             "ticks": ""
            },
            "colorscale": [
             [
              0,
              "#0d0887"
             ],
             [
              0.1111111111111111,
              "#46039f"
             ],
             [
              0.2222222222222222,
              "#7201a8"
             ],
             [
              0.3333333333333333,
              "#9c179e"
             ],
             [
              0.4444444444444444,
              "#bd3786"
             ],
             [
              0.5555555555555556,
              "#d8576b"
             ],
             [
              0.6666666666666666,
              "#ed7953"
             ],
             [
              0.7777777777777778,
              "#fb9f3a"
             ],
             [
              0.8888888888888888,
              "#fdca26"
             ],
             [
              1,
              "#f0f921"
             ]
            ],
            "type": "heatmapgl"
           }
          ],
          "histogram": [
           {
            "marker": {
             "colorbar": {
              "outlinewidth": 0,
              "ticks": ""
             }
            },
            "type": "histogram"
           }
          ],
          "histogram2d": [
           {
            "colorbar": {
             "outlinewidth": 0,
             "ticks": ""
            },
            "colorscale": [
             [
              0,
              "#0d0887"
             ],
             [
              0.1111111111111111,
              "#46039f"
             ],
             [
              0.2222222222222222,
              "#7201a8"
             ],
             [
              0.3333333333333333,
              "#9c179e"
             ],
             [
              0.4444444444444444,
              "#bd3786"
             ],
             [
              0.5555555555555556,
              "#d8576b"
             ],
             [
              0.6666666666666666,
              "#ed7953"
             ],
             [
              0.7777777777777778,
              "#fb9f3a"
             ],
             [
              0.8888888888888888,
              "#fdca26"
             ],
             [
              1,
              "#f0f921"
             ]
            ],
            "type": "histogram2d"
           }
          ],
          "histogram2dcontour": [
           {
            "colorbar": {
             "outlinewidth": 0,
             "ticks": ""
            },
            "colorscale": [
             [
              0,
              "#0d0887"
             ],
             [
              0.1111111111111111,
              "#46039f"
             ],
             [
              0.2222222222222222,
              "#7201a8"
             ],
             [
              0.3333333333333333,
              "#9c179e"
             ],
             [
              0.4444444444444444,
              "#bd3786"
             ],
             [
              0.5555555555555556,
              "#d8576b"
             ],
             [
              0.6666666666666666,
              "#ed7953"
             ],
             [
              0.7777777777777778,
              "#fb9f3a"
             ],
             [
              0.8888888888888888,
              "#fdca26"
             ],
             [
              1,
              "#f0f921"
             ]
            ],
            "type": "histogram2dcontour"
           }
          ],
          "mesh3d": [
           {
            "colorbar": {
             "outlinewidth": 0,
             "ticks": ""
            },
            "type": "mesh3d"
           }
          ],
          "parcoords": [
           {
            "line": {
             "colorbar": {
              "outlinewidth": 0,
              "ticks": ""
             }
            },
            "type": "parcoords"
           }
          ],
          "pie": [
           {
            "automargin": true,
            "type": "pie"
           }
          ],
          "scatter": [
           {
            "marker": {
             "colorbar": {
              "outlinewidth": 0,
              "ticks": ""
             }
            },
            "type": "scatter"
           }
          ],
          "scatter3d": [
           {
            "line": {
             "colorbar": {
              "outlinewidth": 0,
              "ticks": ""
             }
            },
            "marker": {
             "colorbar": {
              "outlinewidth": 0,
              "ticks": ""
             }
            },
            "type": "scatter3d"
           }
          ],
          "scattercarpet": [
           {
            "marker": {
             "colorbar": {
              "outlinewidth": 0,
              "ticks": ""
             }
            },
            "type": "scattercarpet"
           }
          ],
          "scattergeo": [
           {
            "marker": {
             "colorbar": {
              "outlinewidth": 0,
              "ticks": ""
             }
            },
            "type": "scattergeo"
           }
          ],
          "scattergl": [
           {
            "marker": {
             "colorbar": {
              "outlinewidth": 0,
              "ticks": ""
             }
            },
            "type": "scattergl"
           }
          ],
          "scattermapbox": [
           {
            "marker": {
             "colorbar": {
              "outlinewidth": 0,
              "ticks": ""
             }
            },
            "type": "scattermapbox"
           }
          ],
          "scatterpolar": [
           {
            "marker": {
             "colorbar": {
              "outlinewidth": 0,
              "ticks": ""
             }
            },
            "type": "scatterpolar"
           }
          ],
          "scatterpolargl": [
           {
            "marker": {
             "colorbar": {
              "outlinewidth": 0,
              "ticks": ""
             }
            },
            "type": "scatterpolargl"
           }
          ],
          "scatterternary": [
           {
            "marker": {
             "colorbar": {
              "outlinewidth": 0,
              "ticks": ""
             }
            },
            "type": "scatterternary"
           }
          ],
          "surface": [
           {
            "colorbar": {
             "outlinewidth": 0,
             "ticks": ""
            },
            "colorscale": [
             [
              0,
              "#0d0887"
             ],
             [
              0.1111111111111111,
              "#46039f"
             ],
             [
              0.2222222222222222,
              "#7201a8"
             ],
             [
              0.3333333333333333,
              "#9c179e"
             ],
             [
              0.4444444444444444,
              "#bd3786"
             ],
             [
              0.5555555555555556,
              "#d8576b"
             ],
             [
              0.6666666666666666,
              "#ed7953"
             ],
             [
              0.7777777777777778,
              "#fb9f3a"
             ],
             [
              0.8888888888888888,
              "#fdca26"
             ],
             [
              1,
              "#f0f921"
             ]
            ],
            "type": "surface"
           }
          ],
          "table": [
           {
            "cells": {
             "fill": {
              "color": "#EBF0F8"
             },
             "line": {
              "color": "white"
             }
            },
            "header": {
             "fill": {
              "color": "#C8D4E3"
             },
             "line": {
              "color": "white"
             }
            },
            "type": "table"
           }
          ]
         },
         "layout": {
          "annotationdefaults": {
           "arrowcolor": "#2a3f5f",
           "arrowhead": 0,
           "arrowwidth": 1
          },
          "autotypenumbers": "strict",
          "coloraxis": {
           "colorbar": {
            "outlinewidth": 0,
            "ticks": ""
           }
          },
          "colorscale": {
           "diverging": [
            [
             0,
             "#8e0152"
            ],
            [
             0.1,
             "#c51b7d"
            ],
            [
             0.2,
             "#de77ae"
            ],
            [
             0.3,
             "#f1b6da"
            ],
            [
             0.4,
             "#fde0ef"
            ],
            [
             0.5,
             "#f7f7f7"
            ],
            [
             0.6,
             "#e6f5d0"
            ],
            [
             0.7,
             "#b8e186"
            ],
            [
             0.8,
             "#7fbc41"
            ],
            [
             0.9,
             "#4d9221"
            ],
            [
             1,
             "#276419"
            ]
           ],
           "sequential": [
            [
             0,
             "#0d0887"
            ],
            [
             0.1111111111111111,
             "#46039f"
            ],
            [
             0.2222222222222222,
             "#7201a8"
            ],
            [
             0.3333333333333333,
             "#9c179e"
            ],
            [
             0.4444444444444444,
             "#bd3786"
            ],
            [
             0.5555555555555556,
             "#d8576b"
            ],
            [
             0.6666666666666666,
             "#ed7953"
            ],
            [
             0.7777777777777778,
             "#fb9f3a"
            ],
            [
             0.8888888888888888,
             "#fdca26"
            ],
            [
             1,
             "#f0f921"
            ]
           ],
           "sequentialminus": [
            [
             0,
             "#0d0887"
            ],
            [
             0.1111111111111111,
             "#46039f"
            ],
            [
             0.2222222222222222,
             "#7201a8"
            ],
            [
             0.3333333333333333,
             "#9c179e"
            ],
            [
             0.4444444444444444,
             "#bd3786"
            ],
            [
             0.5555555555555556,
             "#d8576b"
            ],
            [
             0.6666666666666666,
             "#ed7953"
            ],
            [
             0.7777777777777778,
             "#fb9f3a"
            ],
            [
             0.8888888888888888,
             "#fdca26"
            ],
            [
             1,
             "#f0f921"
            ]
           ]
          },
          "colorway": [
           "#636efa",
           "#EF553B",
           "#00cc96",
           "#ab63fa",
           "#FFA15A",
           "#19d3f3",
           "#FF6692",
           "#B6E880",
           "#FF97FF",
           "#FECB52"
          ],
          "font": {
           "color": "#2a3f5f"
          },
          "geo": {
           "bgcolor": "white",
           "lakecolor": "white",
           "landcolor": "#E5ECF6",
           "showlakes": true,
           "showland": true,
           "subunitcolor": "white"
          },
          "hoverlabel": {
           "align": "left"
          },
          "hovermode": "closest",
          "mapbox": {
           "style": "light"
          },
          "paper_bgcolor": "white",
          "plot_bgcolor": "#E5ECF6",
          "polar": {
           "angularaxis": {
            "gridcolor": "white",
            "linecolor": "white",
            "ticks": ""
           },
           "bgcolor": "#E5ECF6",
           "radialaxis": {
            "gridcolor": "white",
            "linecolor": "white",
            "ticks": ""
           }
          },
          "scene": {
           "xaxis": {
            "backgroundcolor": "#E5ECF6",
            "gridcolor": "white",
            "gridwidth": 2,
            "linecolor": "white",
            "showbackground": true,
            "ticks": "",
            "zerolinecolor": "white"
           },
           "yaxis": {
            "backgroundcolor": "#E5ECF6",
            "gridcolor": "white",
            "gridwidth": 2,
            "linecolor": "white",
            "showbackground": true,
            "ticks": "",
            "zerolinecolor": "white"
           },
           "zaxis": {
            "backgroundcolor": "#E5ECF6",
            "gridcolor": "white",
            "gridwidth": 2,
            "linecolor": "white",
            "showbackground": true,
            "ticks": "",
            "zerolinecolor": "white"
           }
          },
          "shapedefaults": {
           "line": {
            "color": "#2a3f5f"
           }
          },
          "ternary": {
           "aaxis": {
            "gridcolor": "white",
            "linecolor": "white",
            "ticks": ""
           },
           "baxis": {
            "gridcolor": "white",
            "linecolor": "white",
            "ticks": ""
           },
           "bgcolor": "#E5ECF6",
           "caxis": {
            "gridcolor": "white",
            "linecolor": "white",
            "ticks": ""
           }
          },
          "title": {
           "x": 0.05
          },
          "xaxis": {
           "automargin": true,
           "gridcolor": "white",
           "linecolor": "white",
           "ticks": "",
           "title": {
            "standoff": 15
           },
           "zerolinecolor": "white",
           "zerolinewidth": 2
          },
          "yaxis": {
           "automargin": true,
           "gridcolor": "white",
           "linecolor": "white",
           "ticks": "",
           "title": {
            "standoff": 15
           },
           "zerolinecolor": "white",
           "zerolinewidth": 2
          }
         }
        },
        "width": 1250
       }
      }
     },
     "metadata": {}
    }
   ],
   "source": [
    "import plotly.graph_objects as go\n",
    "fig = go.Figure(data=[\n",
    "    go.Bar(name='Request Name', x=Query_name['Query_Name'], y=Query_name['count']),\n",
    "    go.Bar(name='Response Name', x=Response_Name['Response_Name'], y=Response_Name['count'])\n",
    "])\n",
    "# Change the bar mode\n",
    "fig.update_layout(autosize=False,width=1250,height=1000,barmode='stack',\n",
    "margin=dict(\n",
    "        l=50,\n",
    "        r=50,\n",
    "        b=100,\n",
    "        t=100,\n",
    "        pad=4\n",
    "    ))\n",
    "fig.show()"
   ]
  },
  {
   "cell_type": "markdown",
   "metadata": {},
   "source": [
    "The above graph represents that the number of requests are more than number of reponses for a particular domain"
   ]
  }
 ],
 "metadata": {
  "interpreter": {
   "hash": "6961622167e1627e90c245de26849e8a781a326d57f239a03e1e69f97c35a8bb"
  },
  "kernelspec": {
   "name": "python3",
   "display_name": "Python 3.8.8 64-bit ('base': conda)"
  },
  "language_info": {
   "codemirror_mode": {
    "name": "ipython",
    "version": 3
   },
   "file_extension": ".py",
   "mimetype": "text/x-python",
   "name": "python",
   "nbconvert_exporter": "python",
   "pygments_lexer": "ipython3",
   "version": "3.8.8"
  }
 },
 "nbformat": 4,
 "nbformat_minor": 2
}